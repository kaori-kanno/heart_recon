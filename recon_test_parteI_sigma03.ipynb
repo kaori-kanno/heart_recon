{
  "cells": [
    {
      "cell_type": "markdown",
      "metadata": {
        "id": "view-in-github",
        "colab_type": "text"
      },
      "source": [
        "<a href=\"https://colab.research.google.com/github/kaori-kanno/heart_recon/blob/main/recon_test_parteI_sigma03.ipynb\" target=\"_parent\"><img src=\"https://colab.research.google.com/assets/colab-badge.svg\" alt=\"Open In Colab\"/></a>"
      ]
    },
    {
      "cell_type": "markdown",
      "source": [
        "Usar GPU T4, si se requiere de hacer algo muy pesado, el A100"
      ],
      "metadata": {
        "id": "TjFd75FPffIM"
      }
    },
    {
      "cell_type": "code",
      "source": [
        "sigma = \"03\"\n",
        "\n",
        "sigma = 0.3"
      ],
      "metadata": {
        "id": "8PewCW-uyhd2"
      },
      "execution_count": 1,
      "outputs": []
    },
    {
      "cell_type": "code",
      "source": [
        "# from google.colab import userdata\n",
        "# token = userdata.get('cosas-tabita')\n",
        "\n",
        "# !git clone 'https://{token}@github.com/kaori-kanno/NF-cMRI-tabita.git'\n",
        "# %cd NF-cMRI-tabita/"
      ],
      "metadata": {
        "id": "NmEMVvG0KPD3"
      },
      "execution_count": 2,
      "outputs": []
    },
    {
      "cell_type": "code",
      "source": [
        "# !pip install -e . # instala como librería y e permite editar"
      ],
      "metadata": {
        "id": "KNPg48u2Ld-d"
      },
      "execution_count": 3,
      "outputs": []
    },
    {
      "cell_type": "code",
      "execution_count": 4,
      "metadata": {
        "id": "P7-wTVveC6ze"
      },
      "outputs": [],
      "source": [
        "import numpy as np\n",
        "import matplotlib.pyplot as plt\n",
        "from scipy.io import loadmat\n",
        "# import inrmri"
      ]
    },
    {
      "cell_type": "code",
      "source": [
        "from google.colab import drive\n",
        "import os\n",
        "\n",
        "drive.mount('/content/drive') # directorio de todas las carpetas\n",
        "os.chdir(\"/content/drive/MyDrive/joint_recon/Pig_2\")\n",
        "!ls"
      ],
      "metadata": {
        "colab": {
          "base_uri": "https://localhost:8080/"
        },
        "id": "tWCO8UTIDOQy",
        "outputId": "f1d4f7e5-ff5c-4673-bd8f-302e5da6a452"
      },
      "execution_count": 6,
      "outputs": [
        {
          "output_type": "stream",
          "name": "stdout",
          "text": [
            "Mounted at /content/drive\n",
            "autovalores_vectores.npz  kspace_imag.mat   results_out2.pkl\n",
            "diffusion_directions.txt  kspace_real.mat   results_out3.pkl\n",
            "image_imag.mat\t\t  NF-cMRI-tabita    training_results_100k.pkl\n",
            "image_real.mat\t\t  results_out1.pkl  training_results_lr.pkl\n"
          ]
        }
      ]
    },
    {
      "cell_type": "code",
      "execution_count": 7,
      "metadata": {
        "id": "2ML5WNYoC6zg"
      },
      "outputs": [],
      "source": [
        "# ir = loadmat('Pig_2/image_real.mat')['image_real']\n",
        "# im = loadmat('Pig_2/image_imag.mat')['image_imag']\n",
        "\n",
        "ir_data = loadmat('/content/drive/MyDrive/joint_recon/Pig_2/image_real.mat')\n",
        "im_data = loadmat('/content/drive/MyDrive/joint_recon/Pig_2/image_imag.mat')"
      ]
    },
    {
      "cell_type": "code",
      "source": [
        "real = ir_data['image_real']\n",
        "imag = im_data['image_imag']"
      ],
      "metadata": {
        "id": "6Y4QXBEwF0GE"
      },
      "execution_count": 8,
      "outputs": []
    },
    {
      "cell_type": "code",
      "execution_count": 9,
      "metadata": {
        "id": "Px-xlRPCC6zh"
      },
      "outputs": [],
      "source": [
        "# kr = loadmat('Pig_2/kspace_real.mat')['kspace_real']\n",
        "# ki = loadmat('Pig_2/kspace_imag.mat')['kspace_imag']"
      ]
    },
    {
      "cell_type": "code",
      "execution_count": 10,
      "metadata": {
        "colab": {
          "base_uri": "https://localhost:8080/",
          "height": 342
        },
        "id": "6Aaj9G3MC6zi",
        "outputId": "f1382141-f68b-4dd5-e186-cc1f04c04ff6"
      },
      "outputs": [
        {
          "output_type": "execute_result",
          "data": {
            "text/plain": [
              "<matplotlib.image.AxesImage at 0x7e1d7809b790>"
            ]
          },
          "metadata": {},
          "execution_count": 10
        },
        {
          "output_type": "display_data",
          "data": {
            "text/plain": [
              "<Figure size 640x480 with 1 Axes>"
            ],
            "image/png": "[encoded data removed]"
          },
          "metadata": {}
        }
      ],
      "source": [
        "image = real + 1j*imag # combinamos la parte real e imaginaria para formar la imagen completa\n",
        "image = image/np.max(np.abs(image)) # se normaliza la imagen por el valor máximo\n",
        "\n",
        "plt.imshow(np.abs(image[:,:,24,4,1]), cmap='gray') # seleccionamos el corte 24, y ciertas direcciones de difusión"
      ]
    },
    {
      "cell_type": "code",
      "execution_count": 11,
      "metadata": {
        "colab": {
          "base_uri": "https://localhost:8080/"
        },
        "id": "X7sxRQfZC6zj",
        "outputId": "93501635-b142-41b4-ce55-1b1871dc897d"
      },
      "outputs": [
        {
          "output_type": "stream",
          "name": "stdout",
          "text": [
            "(38, 72, 49, 5, 457)\n"
          ]
        }
      ],
      "source": [
        "print(image.shape) # (x, y, z, valores_b, direcciones)"
      ]
    },
    {
      "cell_type": "code",
      "execution_count": 12,
      "metadata": {
        "colab": {
          "base_uri": "https://localhost:8080/",
          "height": 788
        },
        "id": "3kaqWJn9C6zj",
        "outputId": "901553d6-8536-4fbd-d017-8c6016906f30"
      },
      "outputs": [
        {
          "output_type": "display_data",
          "data": {
            "text/plain": [
              "<Figure size 1000x1000 with 9 Axes>"
            ],
            "image/png": "[encoded data removed]"
          },
          "metadata": {}
        }
      ],
      "source": [
        "plt.figure(figsize=(10,10))\n",
        "\n",
        "for i in range(1, 10):\n",
        "    plt.subplot(3,3,i)\n",
        "    plt.imshow(np.abs(image[:,:,24,4,i]), cmap='gray') # cambiamos la última dirección i de difusión\n",
        "\n",
        "    plt.axis('off')\n",
        "\n",
        "plt.tight_layout()"
      ]
    },
    {
      "cell_type": "code",
      "execution_count": 13,
      "metadata": {
        "id": "INmyF2YxC6zk"
      },
      "outputs": [],
      "source": [
        "# recortamos un slice de todas las imágenes en el plano XY\n",
        "slice = image[:,:,24,4,:]\n",
        "slice = np.transpose(slice, (2,0,1))\n",
        "# slice.shape"
      ]
    },
    {
      "cell_type": "code",
      "execution_count": 14,
      "metadata": {
        "colab": {
          "base_uri": "https://localhost:8080/",
          "height": 342
        },
        "id": "WjzIJnolC6zl",
        "outputId": "ace1d972-4808-4a5e-806b-9dff5ba186a2"
      },
      "outputs": [
        {
          "output_type": "execute_result",
          "data": {
            "text/plain": [
              "<matplotlib.image.AxesImage at 0x7e1d70541310>"
            ]
          },
          "metadata": {},
          "execution_count": 14
        },
        {
          "output_type": "display_data",
          "data": {
            "text/plain": [
              "<Figure size 640x480 with 1 Axes>"
            ],
            "image/png": "[encoded data removed]"
          },
          "metadata": {}
        }
      ],
      "source": [
        "M0 = image[:,:,24,0,0].copy() # imagen con b = 0 en corte 24\n",
        "M0mask = np.abs(M0) > 0\n",
        "\n",
        "plt.imshow(np.abs(M0), cmap='gray')"
      ]
    },
    {
      "cell_type": "code",
      "execution_count": 15,
      "metadata": {
        "colab": {
          "base_uri": "https://localhost:8080/"
        },
        "id": "TYr-djUmC6zm",
        "outputId": "0792b0e0-1a1d-4b50-9604-f78066cfb7ce"
      },
      "outputs": [
        {
          "output_type": "execute_result",
          "data": {
            "text/plain": [
              "(np.float32(0.0), np.float32(0.86845744))"
            ]
          },
          "metadata": {},
          "execution_count": 15
        }
      ],
      "source": [
        "np.abs(M0).min(), np.abs(M0).max() # valores de grises mínimos y máximos en M0"
      ]
    },
    {
      "cell_type": "code",
      "execution_count": 16,
      "metadata": {
        "colab": {
          "base_uri": "https://localhost:8080/"
        },
        "id": "QezjdGC9C6zm",
        "outputId": "2b88fe5c-b441-4e5d-d8ae-d6b2e2c360a1"
      },
      "outputs": [
        {
          "output_type": "execute_result",
          "data": {
            "text/plain": [
              "(457, 38, 72)"
            ]
          },
          "metadata": {},
          "execution_count": 16
        }
      ],
      "source": [
        "# aplicamos Fourier en las imágenes\n",
        "\n",
        "k_space = np.fft.fft2(slice)\n",
        "k_space.shape"
      ]
    },
    {
      "cell_type": "code",
      "execution_count": 17,
      "metadata": {
        "id": "KDmq5megC6zn",
        "colab": {
          "base_uri": "https://localhost:8080/"
        },
        "outputId": "3ae735eb-0076-4d79-96c8-8cc11cff440c"
      },
      "outputs": [
        {
          "output_type": "stream",
          "name": "stdout",
          "text": [
            "11\n",
            "11\n",
            "11\n",
            "[21] True\n",
            "11\n",
            "[22] True\n",
            "11\n",
            "11\n"
          ]
        }
      ],
      "source": [
        "n_masks = 6 # se crean máscaras en el espacio k para simular un muestreo de las imágenes\n",
        "masks = []\n",
        "max_lines = 11 # máximo de líneas que conservaremos en cada máscara.\n",
        "bandwith = 3 # bandas a conservar al centro y a los extremos (información muy relevante en la imagen)\n",
        "for i in range(n_masks):\n",
        "    mask = np.zeros(k_space.shape[1:]).astype(bool) # creamos la máscara\n",
        "    mask[np.arange(i,k_space.shape[1],6)] = 1 # en la máscara creada, marca como 1 (o True) cada 6 pasos, partiendo en i.\n",
        "\n",
        "\n",
        "    # se conservan la banda superior e inferior como 1 o True:\n",
        "    mask[-bandwith:] = 1\n",
        "    mask[:bandwith] = 1\n",
        "\n",
        "    if mask[:,0].sum() > max_lines: # si se excede el número de líneas permitidas\n",
        "        idxs = np.where(mask[:,0]>0)[0] # se obtienen los índices de las filas\n",
        "        order = np.argsort(np.abs(idxs - mask.shape[0]//2))\n",
        "        idx = idxs[order][:(mask[:,0].sum() - max_lines)] # se ordenan las filas\n",
        "        print(idx, mask[idxs[0],0])\n",
        "        mask[idx,:] = 0 # se hacen 0 o False las líneas más alejadas del centro.\n",
        "\n",
        "    masks.append(mask)\n",
        "    print(mask[:,0].sum()) # imprimimos la suma de los valores que están en la fila 0 (deberían sumar max_lines)\n",
        "\n",
        "\n",
        "\n"
      ]
    },
    {
      "cell_type": "code",
      "source": [
        "# ploteamos las máscaras\n",
        "\n",
        "plt.figure(figsize=(10,10))\n",
        "\n",
        "for i, mask in enumerate(masks):\n",
        "    plt.subplot(2,3,i+1)\n",
        "    plt.imshow(np.fft.fftshift(mask), cmap='gray')\n",
        "\n",
        "plt.show()"
      ],
      "metadata": {
        "colab": {
          "base_uri": "https://localhost:8080/",
          "height": 604
        },
        "id": "cmfG2Z3ae35z",
        "outputId": "74ad5c0c-8ed9-434a-b5eb-2cbdf540d899"
      },
      "execution_count": 18,
      "outputs": [
        {
          "output_type": "display_data",
          "data": {
            "text/plain": [
              "<Figure size 1000x1000 with 6 Axes>"
            ],
            "image/png": "[encoded data removed]"
          },
          "metadata": {}
        }
      ]
    },
    {
      "cell_type": "code",
      "execution_count": 19,
      "metadata": {
        "colab": {
          "base_uri": "https://localhost:8080/"
        },
        "id": "yCC-OZAUC6zo",
        "outputId": "486bf6f9-faad-415f-d01a-ecb7f5179102"
      },
      "outputs": [
        {
          "output_type": "execute_result",
          "data": {
            "text/plain": [
              "np.float64(3.4545454545454546)"
            ]
          },
          "metadata": {},
          "execution_count": 19
        }
      ],
      "source": [
        "k_space.shape[1]/mask[:,0].sum() # cantidad de imágenes / cantidad de filas"
      ]
    },
    {
      "cell_type": "code",
      "execution_count": 20,
      "metadata": {
        "colab": {
          "base_uri": "https://localhost:8080/",
          "height": 585
        },
        "id": "M5oUl5lwC6zo",
        "outputId": "4f51e59d-40d3-4961-b5b1-0eb1d4ac80cd"
      },
      "outputs": [
        {
          "output_type": "display_data",
          "data": {
            "text/plain": [
              "<Figure size 1500x900 with 6 Axes>"
            ],
            "image/png": "[encoded data removed]"
          },
          "metadata": {}
        }
      ],
      "source": [
        "plt.figure(figsize=(10,6), dpi = 150)\n",
        "\n",
        "for i, mask in enumerate(masks):\n",
        "    plt.subplot(2,3,i+1) # cuadrícula para los plots\n",
        "    under_k_space = np.zeros(k_space.shape[1:], dtype=np.complex128)\n",
        "    under_k_space[mask] = k_space[1][mask] # Se aplica mask sobre  k_space y se seleccionan solo las frecuencias de k_space[1] marcadas\n",
        "\n",
        "    under_i = np.fft.ifft2(under_k_space) # Se realiza la transformada inversa de Fourier 2D (ifft2) sobre under_k_space\n",
        "\n",
        "    plt.imshow(np.abs(under_i), cmap='gray') # se muestra la imagen reconstruída submuestreada.\n",
        "    plt.axis('off')\n",
        "\n",
        "plt.tight_layout()\n"
      ]
    },
    {
      "cell_type": "markdown",
      "metadata": {
        "id": "XeHB-bvtC6zo"
      },
      "source": [
        "## neural network"
      ]
    },
    {
      "cell_type": "code",
      "execution_count": 21,
      "metadata": {
        "id": "WnE3TgehC6zp"
      },
      "outputs": [],
      "source": [
        "import os\n",
        "\n",
        "os.environ[\"ENABLE_PJRT_COMPATIBILITY\"] = \"1\"\n",
        "\n",
        "import jax.numpy as np\n",
        "from jax import random, grad, jit, vmap\n",
        "import jax\n",
        "from jax.scipy.optimize import minimize\n",
        "import numpy as onp\n",
        "from jax.experimental.ode import odeint\n",
        "from jax.example_libraries import optimizers\n",
        "from functools import partial\n",
        "from matplotlib import pyplot as plt\n",
        "from jax.nn import relu\n",
        "key = random.PRNGKey(0)"
      ]
    },
    {
      "cell_type": "code",
      "execution_count": 22,
      "metadata": {
        "id": "givvaQdpC6zp"
      },
      "outputs": [],
      "source": [
        "def init_params(layers, key):\n",
        "  Ws = [] # lista de matrices de pesos\n",
        "  bs = [] # lista de vectores de sesgos\n",
        "  for i in range(len(layers) - 1):\n",
        "    std_glorot = np.sqrt(2/(layers[i] + layers[i + 1])) # mediante glorot se definen los pesos\n",
        "    key, subkey = random.split(key) # mantiene aleatoriedad controlada, mediante jax se asignan los pesos random\n",
        "    Ws.append(random.normal(subkey, (layers[i], layers[i + 1]))*std_glorot)\n",
        "    bs.append(np.zeros(layers[i + 1])) # se crean los pesos en 0\n",
        "  return (Ws, bs)\n",
        "\n",
        "@jit\n",
        "def forward_pass(H, params):\n",
        "  \"\"\"\n",
        "  Esta es un MLP\n",
        "  \"\"\"\n",
        "  Ws = params[0]\n",
        "  bs = params[1]\n",
        "  N_layers = len(Ws)\n",
        "  for i in range(N_layers - 1):\n",
        "    H = np.matmul(H, Ws[i]) + bs[i] # multiplicación de los pesos + bias\n",
        "    H = np.tanh(H) # función de activación no lineal aplicada en la red\n",
        "  Y = np.matmul(H, Ws[-1]) + bs[-1] # capa final sin función de activación\n",
        "  return Y\n",
        "\n",
        "def init_params_icnn(layers, key):\n",
        "  Wz = [] # pesos aplicados a Z (capas intermedias)\n",
        "  Wy = [] # pesos aplicados a Y (input original)\n",
        "  bs = [] # bias para cada capa oculta\n",
        "\n",
        "  std_glorot = np.sqrt(2/(layers[i] + layers[i + 1]))\n",
        "  key, subkey = random.split(key)\n",
        "  Wy.append(random.normal(subkey, (layers[0], layers[1]))*std_glorot)\n",
        "\n",
        "  for i in range(1,len(layers) - 1):\n",
        "    std_glorot = np.sqrt(2/(layers[i] + layers[i + 1]))\n",
        "    key, subkey = random.split(key)\n",
        "    Wz.append(-3 + random.normal(subkey, (layers[i], layers[i + 1]))*std_glorot) #Wz recibe pesos inicializados con ruido negativo (-3 + random...) para garantizar valores pequeños\n",
        "    Wy.append(random.normal(subkey, (layers[0], layers[i + 1]))*std_glorot) # se conecta la capa de entrada, 0, con las capas ocultas\n",
        "    bs.append(np.zeros(layers[i + 1]))\n",
        "  return (Wz, Wy, bs)\n",
        "\n",
        "@jit\n",
        "def icnn_forwardpass(Y, params): # se recorren hacia adelante las capas\n",
        "  \"\"\"\n",
        "  Esta es un ICNN\n",
        "  \"\"\"\n",
        "  Wz, Wy, bs = params\n",
        "  N_layers = len(Wy)\n",
        "  Z = relu(np.matmul(Y, Wy[0]) + bs[0])  # esta es la capa de entrada Y\n",
        "  for i in range(1, N_layers - 1): # aquí se recorren las capas intermedias\n",
        "    Z = np.matmul(Z, np.exp(Wz[i-1])) + np.matmul(Y, Wy[i]) + bs[i]\n",
        "    Z = relu(Z) # se da una función de activación\n",
        "  Z = np.matmul(Z, np.exp(Wz[-1])) + np.matmul(Y, Wy[-1]) + bs[-1]  # última capa, sin activación no lineal\n",
        "  return Z\n",
        "\n",
        "\n",
        "@jit\n",
        "def ff_forwardpass_B(X, params, B):\n",
        "  \"\"\"\n",
        "  Aplicar Fourier a la data de entrada x.\n",
        "  B es una matriz\n",
        "  \"\"\"\n",
        "  angles = 2*np.pi*vmap(np.dot, in_axes = (None, 0))(B, X) # calcula el producto punto entre cada fila de X y B, B @ X.T\n",
        "  # estos son los ángulos de los features\n",
        "  gamma = np.concatenate((np.sin(angles), np.cos(angles)), axis = 1) # Fourier Feature Mapping, un truco para mapear tus datos a un espacio más rico.\n",
        "  return forward_pass(gamma, params)  #  se pasa gamma por el MLP forward_pass\n",
        "\n",
        "@partial(jit, static_argnums=(0,))\n",
        "def step(loss, i, opt_state, X_batch, Y_batch):\n",
        "    params = get_params(opt_state)  # extrae los parámetros\n",
        "    g = grad(loss)(params, X_batch, Y_batch)  # calcula el gradiente de la función de pérdida respecto a los parámetros\n",
        "    return opt_update(i, g, opt_state) # actualiza los parámetros con un tamaño adecuado\n",
        "\n",
        "def train(loss, X, Y, opt_state, key, nIter = 10000, batch_size = 10):\n",
        "    \"\"\"\n",
        "    Aquí entrenamos el modelo para varias iteraciones con batches de data X e Y que se crean aquí\n",
        "    \"\"\"\n",
        "    train_loss = []\n",
        "    val_loss = []\n",
        "    for it in range(nIter):\n",
        "        key, subkey = random.split(key)\n",
        "        # idx_batch = random.choice(subkey, X.shape[0], shape = (batch_size,), replace = False) # toma un batch aleatorio\n",
        "        opt_state = step(loss, it, opt_state, X, Y) # actualiza los parámetros con step\n",
        "       # opt_state = step(loss, it, opt_state, X, Y)\n",
        "        if it % 100 == 0:  # cada 100 iteraciones:\n",
        "            params = get_params(opt_state)\n",
        "            train_loss_value = loss(params, X, Y) # train_loss_value = loss(params, X[idx_batch], Y[idx_batch])\n",
        "            train_loss.append(train_loss_value)  # mide la pérdida del batch\n",
        "            to_print = \"it %i, train loss = %e\" % (it, train_loss_value)\n",
        "            print(to_print)\n",
        "    return opt_state, train_loss, val_loss\n",
        "\n",
        "def train_batch(loss, Xb, Yb, opt_state, key, nIter = 10000):\n",
        "    train_loss = []\n",
        "    val_loss = []\n",
        "    it = 0\n",
        "    while it < nIter: # itera en los batches\n",
        "        for X, Y in zip(Xb, Yb): # Xb, Yb son listas de batches\n",
        "          opt_state = step(loss, it, opt_state, X, Y)\n",
        "          it += 1\n",
        "          if it % 100 == 0:\n",
        "              params = get_params(opt_state)\n",
        "              train_loss_value = loss(params, X, Y)\n",
        "              train_loss.append(train_loss_value)\n",
        "              to_print = \"it %i, train loss = %e\" % (it, train_loss_value)\n",
        "              print(to_print)\n",
        "    return get_params(opt_state), train_loss, val_loss\n",
        "\n",
        "def create_batches(input, output, batch_size):\n",
        "    \"\"\"\n",
        "    Divide los datos en mini-batches y los devuelve\n",
        "    \"\"\"\n",
        "    # Ensure input and output have the same first dimension length\n",
        "    assert input.shape[0] == output.shape[0], \"Input and output must have the same number of samples\"\n",
        "\n",
        "    num_samples = input.shape[0]  # número de muestras totales\n",
        "\n",
        "    # Shuffle indices\n",
        "    shuffled_indices = random.permutation(jax.random.PRNGKey(0), num_samples) # Crea un orden aleatorio de los índices (0 a num_samples-1)\n",
        "    input_shuffled = input[shuffled_indices]\n",
        "    output_shuffled = output[shuffled_indices] # reordena las muestras del output\n",
        "\n",
        "    # Split the data into batches\n",
        "    # Devuelve listas con batches de X e Y, listas de tamaño num_batches.\n",
        "    input_batches = np.array_split(input_shuffled, num_samples // batch_size)\n",
        "    output_batches = np.array_split(output_shuffled, num_samples // batch_size)\n",
        "\n",
        "    return input_batches, output_batches\n",
        "\n",
        "\n"
      ]
    },
    {
      "cell_type": "code",
      "execution_count": 23,
      "metadata": {
        "id": "DUU9qxYbC6zq"
      },
      "outputs": [],
      "source": [
        "@jit\n",
        "def cartesian_to_spherical(x):\n",
        "    \"\"\"\n",
        "    Se toma un vector 3D y se convierte a esféricas\n",
        "    \"\"\"\n",
        "    r = np.sqrt(x[0]**2 + x[1]**2 + x[2]**2)\n",
        "    theta = np.arccos(x[2] / r)  # polar angle\n",
        "    phi = np.arctan2(x[1], x[0])    # azimuthal angle\n",
        "    return r, theta, phi"
      ]
    },
    {
      "cell_type": "code",
      "execution_count": 24,
      "metadata": {
        "id": "TGm0LPpvC6zq"
      },
      "outputs": [],
      "source": [
        "# cargamos las direcciones de gradiente de difusión, son 457\n",
        "\n",
        "dirs = onp.genfromtxt('diffusion_directions.txt', delimiter=';')\n",
        "\n",
        "R, Theta, Phi= vmap(cartesian_to_spherical)(dirs) # vmap opera sobre un batch o conjunto de datos la operación dada\n",
        "\n",
        "As = np.cos(Theta) # proyección en z de las direcciones\n",
        "Bs = np.cos(Phi) # proyección en el plano XY\n",
        "\n"
      ]
    },
    {
      "cell_type": "markdown",
      "metadata": {
        "id": "NVf9LS39C6zq"
      },
      "source": [
        "Acabamos de procesar direcciones existentes, podemos ahora mapear direcciones ideales:"
      ]
    },
    {
      "cell_type": "code",
      "execution_count": 25,
      "metadata": {
        "id": "2A-LQtymC6zq"
      },
      "outputs": [],
      "source": [
        "import mpl_toolkits.mplot3d\n",
        "\n",
        "num_pts = 24\n",
        "b_value = 6500\n",
        "indices = np.arange(0, num_pts, dtype=float) + 0.5  # entrega valores igualmente espaciados en el rango (0, num_pts)\n",
        "# sumamos 0.5 para que no sean los puntos de los extremos o los polos de la esfera.\n",
        "\n",
        "phi = np.arccos(1 - 2*indices/num_pts) # esfera de Fibonacci\n",
        "theta = np.pi * (1 + 5**0.5) * indices # esfera de Fibonacci, espiral con proporción áurea\n",
        "\n",
        "# convertimos de esféricas a cartesianas con r = 1\n",
        "# fórmula de fibonachi para una esfera donde los puntos están equidistantes repartidos.\n",
        "x, y, z = np.cos(theta) * np.sin(phi), np.sin(theta) * np.sin(phi), np.cos(phi)\n",
        "\n",
        "\n",
        "# solo necesitamos mapear en una semi-esfera por simetría:\n",
        "x_half = x[np.where(z >=0)]\n",
        "y_half = y[np.where(z >=0)]\n",
        "z_half = z[np.where(z >=0)]\n",
        "b_value = np.repeat(b_value,x_half.shape[0])  # añadimos b al arreglo\n",
        "\n",
        "\n",
        "\n",
        "directions = np.array([x_half,z_half,y_half]).transpose() # vector de dirección en 3d, (x, z, y)"
      ]
    },
    {
      "cell_type": "code",
      "execution_count": 26,
      "metadata": {
        "colab": {
          "base_uri": "https://localhost:8080/",
          "height": 448
        },
        "id": "WnEYaz7WC6zr",
        "outputId": "ec77cb57-c215-49a5-ebe0-1edb86af4c3b"
      },
      "outputs": [
        {
          "output_type": "execute_result",
          "data": {
            "text/plain": [
              "<matplotlib.collections.PathCollection at 0x7e1d70410650>"
            ]
          },
          "metadata": {},
          "execution_count": 26
        },
        {
          "output_type": "display_data",
          "data": {
            "text/plain": [
              "<Figure size 640x480 with 1 Axes>"
            ],
            "image/png": "[encoded data removed]"
          },
          "metadata": {}
        }
      ],
      "source": [
        "plt.scatter(x_half, y_half, c = np.arange(x_half.shape[0]))"
      ]
    },
    {
      "cell_type": "code",
      "execution_count": 27,
      "metadata": {
        "colab": {
          "base_uri": "https://localhost:8080/",
          "height": 484
        },
        "id": "Ptlh6kukC6zr",
        "outputId": "ddceddfa-8c84-40d3-a7ce-e32871387d62"
      },
      "outputs": [
        {
          "output_type": "execute_result",
          "data": {
            "text/plain": [
              "Array([0.99878776, 0.997787  , 0.99924225, 0.9993435 , 0.9996348 ,\n",
              "       0.99877995, 0.99890304, 0.9988387 , 0.99909306, 0.9991267 ,\n",
              "       0.9997292 , 0.99772215], dtype=float32)"
            ]
          },
          "metadata": {},
          "execution_count": 27
        },
        {
          "output_type": "display_data",
          "data": {
            "text/plain": [
              "<Figure size 640x480 with 1 Axes>"
            ],
            "image/png": "[encoded data removed]"
          },
          "metadata": {}
        }
      ],
      "source": [
        "# calculamos el producto punto entre cada dirección dir creada de direction con las otras direcciones dirs del scaner\n",
        "ort = vmap(lambda dir, dirs: np.dot(dir,dirs), in_axes=(None, 0))(directions, dirs)\n",
        "\n",
        "\n",
        "selected_dirs = np.argmax(ort, axis = 0) # el de mayor producto punto será la dirección más cercana\n",
        "selected_dirs_vec = dirs[selected_dirs] # guardamos esas direcciones\n",
        "\n",
        "plt.scatter(x_half, y_half, c = np.arange(x_half.shape[0]))\n",
        "plt.scatter(selected_dirs_vec[:,0], selected_dirs_vec[:,2], c = np.arange(x_half.shape[0]), marker = 'x')\n",
        "np.max(ort, axis = 0)"
      ]
    },
    {
      "cell_type": "code",
      "execution_count": 28,
      "metadata": {
        "colab": {
          "base_uri": "https://localhost:8080/"
        },
        "id": "F7pErEoxC6zs",
        "outputId": "8f3faa38-cf46-4c3b-e2af-8a957c4f3c4c"
      },
      "outputs": [
        {
          "output_type": "stream",
          "name": "stdout",
          "text": [
            "(12, 38, 72)\n",
            "(12, 2736, 4) (9504,)\n"
          ]
        }
      ],
      "source": [
        "# coordenadas del sistema:\n",
        "Nx = k_space.shape[1] # tamaño de la transformada de fourier en x\n",
        "Ny = k_space.shape[2] # tamaño de la transformada de fourier en y\n",
        "x = np.arange(Nx)/(Nx - 1)*2 - 1 # normaliza las coordenadas Nx a valores entre -1 y 1\n",
        "y = np.arange(Ny)/(Nx - 1)*2 - 1 # [0 a Ny-1]/(Ny-1) = [0 - 1]\n",
        "\n",
        "X, Y = np.meshgrid(x, y, indexing = 'ij') # X, Y = np.meshgrid(x, y)\n",
        "Xall = np.c_[X.flatten(), Y.flatten()] # aplana y concatena X con Y\n",
        "\n",
        "# creamos las máscaras\n",
        "masks = np.array(masks)\n",
        "masks_rep = np.concatenate((masks, masks), axis = 0)  # se le agregan máscaras # masks_rep = np.concatenate((masks, masks[:3]), axis = 0)\n",
        "input = []\n",
        "output = []\n",
        "\n",
        "for i,dir_idx in enumerate(selected_dirs): # son 9 puntos en selected_dirs\n",
        "    input.append(np.c_[Xall, np.ones(Xall.shape[0])*As[dir_idx], np.ones(Xall.shape[0])*Bs[dir_idx]]) # (xs, ys, cos(th), cos(phi))\n",
        "input = np.array(input)\n",
        "# recordar que Xall.shape = (Nx * Ny, 2) y As[dir_idx] sería la dirección de un vector de selected_dirs\n",
        "\n",
        "\n",
        "\n",
        "print(k_space[selected_dirs].shape) # (num_puntos 12, x, y)\n",
        "output = k_space[selected_dirs][masks_rep] # se le aplica la máscara a las direcciones seleccionados.\n",
        "print(input.shape, output.shape) # (num_puntos 12, num_puntos_visibles Nx*Ny, 4 (x, y, cos, cos)) y un valor\n"
      ]
    },
    {
      "cell_type": "markdown",
      "metadata": {
        "id": "93_RxQdVC6zs"
      },
      "source": [
        "best params for 9 directions:\n",
        "\n",
        "```\n",
        "N_ff = 256\n",
        "key = random.PRNGKey(0)\n",
        "B = random.normal(key, shape = (N_ff,2))*0.1\n",
        "\n",
        "ff_forwardpass = lambda x, params: ff_forwardpass_mixed(x,params,B)\n",
        "\n",
        "layers = [2*N_ff+2, 256, 256,256, 2]\n",
        "\n",
        "params = init_params(layers, key)\n",
        "\n",
        "\n",
        "#lr = optimizers.exponential_decay(1e-3, decay_steps=1000, decay_rate=0.99)\n",
        "opt_init, opt_update, get_params = optimizers.adam(1e-3)\n",
        "opt_state = opt_init(params)\n",
        "params, train_loss, val_loss = train(loss,input, output, opt_state, key, nIter= 200000) #100000\n",
        "```\n"
      ]
    },
    {
      "cell_type": "markdown",
      "metadata": {
        "id": "b0BjuSc_C6zs"
      },
      "source": [
        "### first training"
      ]
    },
    {
      "cell_type": "code",
      "execution_count": 29,
      "metadata": {
        "id": "CErW0hihC6zt"
      },
      "outputs": [],
      "source": [
        "masks = np.array(masks)\n",
        "\n",
        "@jit\n",
        "def forward_model(X, params):\n",
        "    I = ff_forwardpass(X, params) # pasa por la función de más abajo que lleva a ff_forwwardpass_mixed\n",
        "    I = I[:,0] + 1j*I[:,1] # se convierte la imagen a una compleja\n",
        "    I = I.reshape((Nx, Ny)) # I = I.reshape(mask.shape) # se reconstruye la imagen\n",
        "    k_space = np.fft.fft2(I) # transforma a k-space\n",
        "    return k_space\n",
        "\n",
        "n_pix = k_space.shape[1]*k_space.shape[2]\n",
        "\n",
        "@jit\n",
        "def loss(params, input, Y):\n",
        "\n",
        "  k_spaces = vmap(partial(forward_model, params = params))(input) # simula varios k-space con forward_model\n",
        "  return np.mean(np.abs((np.squeeze(k_spaces[masks_rep]) - Y))**2/(n_pix)) # se calcula el error entre el k-space simulado y el real partido en npix\n",
        "\n",
        "\n",
        "@jit\n",
        "def ff_forwardpass_mixed(X, params, B):\n",
        "  angles = 2*np.pi*vmap(np.dot, in_axes = (None, 0))(B, X[:,:2]) # 2pi * (proyecciones)\n",
        "  input = np.concatenate((np.sin(angles), np.cos(angles), X[:,2:]), axis = 1)\n",
        "  return forward_pass(input, params)\n",
        "\n",
        "N_ff = 256\n",
        "key = random.PRNGKey(0)\n",
        "B = random.normal(key, shape = (N_ff,2))*sigma # B es aleatorio\n",
        "\n",
        "ff_forwardpass = lambda x, params: ff_forwardpass_mixed(x,params,B)\n",
        "\n",
        "layers = [2*N_ff+2, 256, 256,256, 2] # define las capas de la red; capa de entrada, 3 capas ocultas de 256 neuronas y 2 neuronas de salida para parte real e im\n",
        "params = init_params(layers, key)\n",
        "\n"
      ]
    },
    {
      "cell_type": "code",
      "source": [
        "def psnr(params, input, Y):\n",
        "\n",
        "  k_spaces = vmap(partial(forward_model, params = params))(input) # simula varios k-space con forward_model\n",
        "  print(k_spaces.shape)\n",
        "  mse = np.mean(np.abs((k_spaces - Y))**2/(n_pix))\n",
        "  max_value = np.max(np.abs(Y))\n",
        "  return 20 * np.log10(max_value / (np.sqrt(mse)))"
      ],
      "metadata": {
        "id": "q7VJUgJMDY80"
      },
      "execution_count": 30,
      "outputs": []
    },
    {
      "cell_type": "code",
      "source": [
        "def loss_orig(params, input, Y):\n",
        "  k_spaces = vmap(partial(forward_model, params = params))(input) # simula varios k-space con forward_model\n",
        "  return np.mean(np.abs((k_spaces - Y))**2/(n_pix))"
      ],
      "metadata": {
        "id": "6aslaALq--py"
      },
      "execution_count": 31,
      "outputs": []
    },
    {
      "cell_type": "code",
      "source": [
        "#lr = optimizers.exponential_decay(1e-3, decay_steps=1000, decay_rate=0.99)\n",
        "opt_init, opt_update, get_params = optimizers.adam(1e-3)  #  Adam con learning rate 1e-3\n",
        "opt_state = opt_init(params)\n",
        "opt_state_mil, train_loss, val_loss = train(loss,input, output, opt_state, key, nIter= 1000) # 1000"
      ],
      "metadata": {
        "id": "ouTV1aWEZnGr"
      },
      "execution_count": 32,
      "outputs": []
    },
    {
      "cell_type": "code",
      "source": [
        "params_mil = get_params(opt_state_mil)\n",
        "loss(params_mil, input, output) #MSE"
      ],
      "metadata": {
        "id": "RI8ESEJxMZtU"
      },
      "execution_count": 33,
      "outputs": []
    },
    {
      "cell_type": "code",
      "source": [
        "print(psnr(params_mil, input, k_space[selected_dirs]))\n",
        "print(loss_orig(params_mil, input, k_space[selected_dirs]))"
      ],
      "metadata": {
        "id": "r7msxMKFIdql"
      },
      "execution_count": 35,
      "outputs": []
    },
    {
      "cell_type": "code",
      "execution_count": 36,
      "metadata": {
        "id": "Pdph6YCkC6zt"
      },
      "outputs": [],
      "source": [
        "opt_state_10mil, train_loss, val_loss = train(loss,input, output, opt_state_mil, key, nIter= 9000) #10.000\n",
        "params_10mil = get_params(opt_state_10mil)\n",
        "loss(params_10mil, input, output) #MSE"
      ]
    },
    {
      "cell_type": "code",
      "source": [
        "loss(params_10mil, input, output) #MSE"
      ],
      "metadata": {
        "id": "NTA5b96PMrkL"
      },
      "execution_count": 37,
      "outputs": []
    },
    {
      "cell_type": "code",
      "source": [
        "print(psnr(params_10mil, input, k_space[selected_dirs]))\n",
        "print(loss_orig(params_10mil, input, k_space[selected_dirs]))"
      ],
      "metadata": {
        "id": "y3TWXWp2QUbm"
      },
      "execution_count": 38,
      "outputs": []
    },
    {
      "cell_type": "code",
      "source": [
        "import pickle\n",
        "save_path='/content/drive/MyDrive/joint_recon'"
      ],
      "metadata": {
        "id": "Trv7GgqY0zm4"
      },
      "execution_count": 39,
      "outputs": []
    },
    {
      "cell_type": "code",
      "source": [
        "with open(f'{save_path}/params_10mil_{sigma}.pkl', 'wb') as f:\n",
        "    pickle.dump(params_10mil, f)\n",
        "\n",
        "with open(f'{save_path}/opt_state_10mil_{sigma}.pkl', 'wb') as f:\n",
        "    pickle.dump(opt_state_10mil, f)"
      ],
      "metadata": {
        "id": "Cny9qKRI1nKg"
      },
      "execution_count": 40,
      "outputs": []
    },
    {
      "cell_type": "code",
      "source": [
        "with open(f'{save_path}/params_10mil_{sigma}.pkl', \"rb\") as f:\n",
        "    params_10mil = pickle.load(f)\n",
        "\n",
        "with open(f'{save_path}/opt_state_10mil_{sigma}.pkl', \"rb\") as f:\n",
        "    opt_state_10mil = pickle.load(f)"
      ],
      "metadata": {
        "id": "PNmzzFJR1s8H",
        "colab": {
          "base_uri": "https://localhost:8080/",
          "height": 218
        },
        "outputId": "a896a6ea-e1b3-4f8d-f44e-a87a56e3c6b5"
      },
      "execution_count": 42,
      "outputs": [
        {
          "output_type": "error",
          "ename": "FileNotFoundError",
          "evalue": "[Errno 2] No such file or directory: '/content/drive/MyDrive/joint_recon/params_10mil_0.3.pkl'",
          "traceback": [
            "\u001b[0;31m---------------------------------------------------------------------------\u001b[0m",
            "\u001b[0;31mFileNotFoundError\u001b[0m                         Traceback (most recent call last)",
            "\u001b[0;32m/tmp/ipython-input-42-2947261786.py\u001b[0m in \u001b[0;36m<cell line: 0>\u001b[0;34m()\u001b[0m\n\u001b[0;32m----> 1\u001b[0;31m \u001b[0;32mwith\u001b[0m \u001b[0mopen\u001b[0m\u001b[0;34m(\u001b[0m\u001b[0;34mf'{save_path}/params_10mil_{sigma}.pkl'\u001b[0m\u001b[0;34m,\u001b[0m \u001b[0;34m\"rb\"\u001b[0m\u001b[0;34m)\u001b[0m \u001b[0;32mas\u001b[0m \u001b[0mf\u001b[0m\u001b[0;34m:\u001b[0m\u001b[0;34m\u001b[0m\u001b[0;34m\u001b[0m\u001b[0m\n\u001b[0m\u001b[1;32m      2\u001b[0m     \u001b[0mparams_10mil\u001b[0m \u001b[0;34m=\u001b[0m \u001b[0mpickle\u001b[0m\u001b[0;34m.\u001b[0m\u001b[0mload\u001b[0m\u001b[0;34m(\u001b[0m\u001b[0mf\u001b[0m\u001b[0;34m)\u001b[0m\u001b[0;34m\u001b[0m\u001b[0;34m\u001b[0m\u001b[0m\n\u001b[1;32m      3\u001b[0m \u001b[0;34m\u001b[0m\u001b[0m\n\u001b[1;32m      4\u001b[0m \u001b[0;32mwith\u001b[0m \u001b[0mopen\u001b[0m\u001b[0;34m(\u001b[0m\u001b[0;34mf'{save_path}/opt_state_10mil_{sigma}.pkl'\u001b[0m\u001b[0;34m,\u001b[0m \u001b[0;34m\"rb\"\u001b[0m\u001b[0;34m)\u001b[0m \u001b[0;32mas\u001b[0m \u001b[0mf\u001b[0m\u001b[0;34m:\u001b[0m\u001b[0;34m\u001b[0m\u001b[0;34m\u001b[0m\u001b[0m\n\u001b[1;32m      5\u001b[0m     \u001b[0mopt_state_10mil\u001b[0m \u001b[0;34m=\u001b[0m \u001b[0mpickle\u001b[0m\u001b[0;34m.\u001b[0m\u001b[0mload\u001b[0m\u001b[0;34m(\u001b[0m\u001b[0mf\u001b[0m\u001b[0;34m)\u001b[0m\u001b[0;34m\u001b[0m\u001b[0;34m\u001b[0m\u001b[0m\n",
            "\u001b[0;31mFileNotFoundError\u001b[0m: [Errno 2] No such file or directory: '/content/drive/MyDrive/joint_recon/params_10mil_0.3.pkl'"
          ]
        }
      ]
    },
    {
      "cell_type": "code",
      "execution_count": null,
      "metadata": {
        "id": "-U0rp9igC6zt"
      },
      "outputs": [],
      "source": [
        "opt_state_50mil, train_loss, val_loss = train(loss,input, output, opt_state_10mil, key, nIter= 40000) #50.000\n",
        "params_50mil = get_params(opt_state_50mil)\n",
        "loss(params_50mil, input, output) #MSE"
      ]
    },
    {
      "cell_type": "code",
      "source": [
        "with open(f'{save_path}/params_50mil_{sigma}.pkl', 'wb') as f:\n",
        "    pickle.dump(params_50mil, f)\n",
        "\n",
        "with open(f'{save_path}/opt_state_50mil_{sigma}.pkl', 'wb') as f:\n",
        "    pickle.dump(opt_state_50mil, f)"
      ],
      "metadata": {
        "id": "pH3GvefOS1aQ"
      },
      "execution_count": null,
      "outputs": []
    },
    {
      "cell_type": "code",
      "source": [
        "with open(f'{save_path}/params_50mil_{sigma}.pkl', \"rb\") as f:\n",
        "    params_50mil = pickle.load(f)\n",
        "\n",
        "with open(f'{save_path}/opt_state_50mil_{sigma}.pkl', \"rb\") as f:\n",
        "    opt_state_50mil = pickle.load(f)"
      ],
      "metadata": {
        "id": "rSsUMsHBUHH9"
      },
      "execution_count": null,
      "outputs": []
    },
    {
      "cell_type": "code",
      "source": [
        "loss(params_50mil, input, output) #MSE"
      ],
      "metadata": {
        "id": "gAVF-OnhW2y8"
      },
      "execution_count": null,
      "outputs": []
    },
    {
      "cell_type": "code",
      "source": [
        "psnr(params_50mil, input, k_space[selected_dirs])"
      ],
      "metadata": {
        "id": "pDXniAsKQn9q"
      },
      "execution_count": null,
      "outputs": []
    },
    {
      "cell_type": "code",
      "execution_count": null,
      "metadata": {
        "id": "STXA8WRWC6zu"
      },
      "outputs": [],
      "source": [
        "opt_state_100mil, train_loss, val_loss = train(loss,input, output, opt_state_50mil, key, nIter= 60000) #110.000\n",
        "params_100mil = get_params(opt_state_100mil)\n",
        "loss(params_100mil, input, output) #MSE"
      ]
    },
    {
      "cell_type": "code",
      "source": [
        "with open(f'{save_path}/params_100mil_{sigma}.pkl', 'wb') as f:\n",
        "    pickle.dump(params_100mil, f)\n",
        "\n",
        "with open(f'{save_path}/opt_state_100mil_{sigma}.pkl', 'wb') as f:\n",
        "    pickle.dump(opt_state_100mil, f)"
      ],
      "metadata": {
        "id": "QTcikq13Ty22"
      },
      "execution_count": null,
      "outputs": []
    },
    {
      "cell_type": "code",
      "source": [
        "with open(f'{save_path}/params_100mil_{sigma}.pkl', \"rb\") as f:\n",
        "    params_100mil = pickle.load(f)\n",
        "\n",
        "with open(f'{save_path}/opt_state_100mil_{sigma}.pkl', \"rb\") as f:\n",
        "    opt_state_100mil = pickle.load(f)"
      ],
      "metadata": {
        "id": "eajVoMNOUYDv",
        "colab": {
          "base_uri": "https://localhost:8080/",
          "height": 218
        },
        "outputId": "708ba44e-27f7-401c-b6ea-3792d8442ca9"
      },
      "execution_count": 43,
      "outputs": [
        {
          "output_type": "error",
          "ename": "FileNotFoundError",
          "evalue": "[Errno 2] No such file or directory: '/content/drive/MyDrive/joint_recon/params_100mil_0.3.pkl'",
          "traceback": [
            "\u001b[0;31m---------------------------------------------------------------------------\u001b[0m",
            "\u001b[0;31mFileNotFoundError\u001b[0m                         Traceback (most recent call last)",
            "\u001b[0;32m/tmp/ipython-input-43-2106948220.py\u001b[0m in \u001b[0;36m<cell line: 0>\u001b[0;34m()\u001b[0m\n\u001b[0;32m----> 1\u001b[0;31m \u001b[0;32mwith\u001b[0m \u001b[0mopen\u001b[0m\u001b[0;34m(\u001b[0m\u001b[0;34mf'{save_path}/params_100mil_{sigma}.pkl'\u001b[0m\u001b[0;34m,\u001b[0m \u001b[0;34m\"rb\"\u001b[0m\u001b[0;34m)\u001b[0m \u001b[0;32mas\u001b[0m \u001b[0mf\u001b[0m\u001b[0;34m:\u001b[0m\u001b[0;34m\u001b[0m\u001b[0;34m\u001b[0m\u001b[0m\n\u001b[0m\u001b[1;32m      2\u001b[0m     \u001b[0mparams_100mil\u001b[0m \u001b[0;34m=\u001b[0m \u001b[0mpickle\u001b[0m\u001b[0;34m.\u001b[0m\u001b[0mload\u001b[0m\u001b[0;34m(\u001b[0m\u001b[0mf\u001b[0m\u001b[0;34m)\u001b[0m\u001b[0;34m\u001b[0m\u001b[0;34m\u001b[0m\u001b[0m\n\u001b[1;32m      3\u001b[0m \u001b[0;34m\u001b[0m\u001b[0m\n\u001b[1;32m      4\u001b[0m \u001b[0;32mwith\u001b[0m \u001b[0mopen\u001b[0m\u001b[0;34m(\u001b[0m\u001b[0;34mf'{save_path}/opt_state_100mil_{sigma}.pkl'\u001b[0m\u001b[0;34m,\u001b[0m \u001b[0;34m\"rb\"\u001b[0m\u001b[0;34m)\u001b[0m \u001b[0;32mas\u001b[0m \u001b[0mf\u001b[0m\u001b[0;34m:\u001b[0m\u001b[0;34m\u001b[0m\u001b[0;34m\u001b[0m\u001b[0m\n\u001b[1;32m      5\u001b[0m     \u001b[0mopt_state_100mil\u001b[0m \u001b[0;34m=\u001b[0m \u001b[0mpickle\u001b[0m\u001b[0;34m.\u001b[0m\u001b[0mload\u001b[0m\u001b[0;34m(\u001b[0m\u001b[0mf\u001b[0m\u001b[0;34m)\u001b[0m\u001b[0;34m\u001b[0m\u001b[0;34m\u001b[0m\u001b[0m\n",
            "\u001b[0;31mFileNotFoundError\u001b[0m: [Errno 2] No such file or directory: '/content/drive/MyDrive/joint_recon/params_100mil_0.3.pkl'"
          ]
        }
      ]
    },
    {
      "cell_type": "code",
      "source": [
        "loss(params_100mil, input, output) #MSE"
      ],
      "metadata": {
        "id": "aUu_ZHkuW_KF"
      },
      "execution_count": null,
      "outputs": []
    },
    {
      "cell_type": "code",
      "source": [
        "psnr(params_100mil, input, k_space[selected_dirs])"
      ],
      "metadata": {
        "id": "jwltUEGlQz2H"
      },
      "execution_count": null,
      "outputs": []
    },
    {
      "cell_type": "code",
      "source": [
        "print(loss_orig(params_100mil, input, k_space[selected_dirs]))"
      ],
      "metadata": {
        "id": "uJ0WN-x8A9O1"
      },
      "execution_count": null,
      "outputs": []
    },
    {
      "cell_type": "code",
      "source": [
        "plt.figure(figsize=(15,10))\n",
        "\n",
        "for i, inp in enumerate(input):\n",
        "    plt.subplot(4,3,i+1)\n",
        "    I = ff_forwardpass(inp, params_100mil)\n",
        "    I = I[:,0] + 1j*I[:,1] # imagen reconstruida a partir de los parámetros.\n",
        "    plt.imshow(np.abs(I).reshape((Nx, Ny)), cmap='gray')\n",
        "    plt.axis('off')\n",
        "\n",
        "plt.tight_layout()"
      ],
      "metadata": {
        "colab": {
          "base_uri": "https://localhost:8080/",
          "height": 434
        },
        "id": "QaYepRPJP1bL",
        "outputId": "34e1e6a4-769a-4cb7-ffd9-cbe48ec0cc42"
      },
      "execution_count": 44,
      "outputs": [
        {
          "output_type": "error",
          "ename": "NameError",
          "evalue": "name 'params_100mil' is not defined",
          "traceback": [
            "\u001b[0;31m---------------------------------------------------------------------------\u001b[0m",
            "\u001b[0;31mNameError\u001b[0m                                 Traceback (most recent call last)",
            "\u001b[0;32m/tmp/ipython-input-44-446526294.py\u001b[0m in \u001b[0;36m<cell line: 0>\u001b[0;34m()\u001b[0m\n\u001b[1;32m      3\u001b[0m \u001b[0;32mfor\u001b[0m \u001b[0mi\u001b[0m\u001b[0;34m,\u001b[0m \u001b[0minp\u001b[0m \u001b[0;32min\u001b[0m \u001b[0menumerate\u001b[0m\u001b[0;34m(\u001b[0m\u001b[0minput\u001b[0m\u001b[0;34m)\u001b[0m\u001b[0;34m:\u001b[0m\u001b[0;34m\u001b[0m\u001b[0;34m\u001b[0m\u001b[0m\n\u001b[1;32m      4\u001b[0m     \u001b[0mplt\u001b[0m\u001b[0;34m.\u001b[0m\u001b[0msubplot\u001b[0m\u001b[0;34m(\u001b[0m\u001b[0;36m4\u001b[0m\u001b[0;34m,\u001b[0m\u001b[0;36m3\u001b[0m\u001b[0;34m,\u001b[0m\u001b[0mi\u001b[0m\u001b[0;34m+\u001b[0m\u001b[0;36m1\u001b[0m\u001b[0;34m)\u001b[0m\u001b[0;34m\u001b[0m\u001b[0;34m\u001b[0m\u001b[0m\n\u001b[0;32m----> 5\u001b[0;31m     \u001b[0mI\u001b[0m \u001b[0;34m=\u001b[0m \u001b[0mff_forwardpass\u001b[0m\u001b[0;34m(\u001b[0m\u001b[0minp\u001b[0m\u001b[0;34m,\u001b[0m \u001b[0mparams_100mil\u001b[0m\u001b[0;34m)\u001b[0m\u001b[0;34m\u001b[0m\u001b[0;34m\u001b[0m\u001b[0m\n\u001b[0m\u001b[1;32m      6\u001b[0m     \u001b[0mI\u001b[0m \u001b[0;34m=\u001b[0m \u001b[0mI\u001b[0m\u001b[0;34m[\u001b[0m\u001b[0;34m:\u001b[0m\u001b[0;34m,\u001b[0m\u001b[0;36m0\u001b[0m\u001b[0;34m]\u001b[0m \u001b[0;34m+\u001b[0m \u001b[0;36m1j\u001b[0m\u001b[0;34m*\u001b[0m\u001b[0mI\u001b[0m\u001b[0;34m[\u001b[0m\u001b[0;34m:\u001b[0m\u001b[0;34m,\u001b[0m\u001b[0;36m1\u001b[0m\u001b[0;34m]\u001b[0m \u001b[0;31m# imagen reconstruida a partir de los parámetros.\u001b[0m\u001b[0;34m\u001b[0m\u001b[0;34m\u001b[0m\u001b[0m\n\u001b[1;32m      7\u001b[0m     \u001b[0mplt\u001b[0m\u001b[0;34m.\u001b[0m\u001b[0mimshow\u001b[0m\u001b[0;34m(\u001b[0m\u001b[0mnp\u001b[0m\u001b[0;34m.\u001b[0m\u001b[0mabs\u001b[0m\u001b[0;34m(\u001b[0m\u001b[0mI\u001b[0m\u001b[0;34m)\u001b[0m\u001b[0;34m.\u001b[0m\u001b[0mreshape\u001b[0m\u001b[0;34m(\u001b[0m\u001b[0;34m(\u001b[0m\u001b[0mNx\u001b[0m\u001b[0;34m,\u001b[0m \u001b[0mNy\u001b[0m\u001b[0;34m)\u001b[0m\u001b[0;34m)\u001b[0m\u001b[0;34m,\u001b[0m \u001b[0mcmap\u001b[0m\u001b[0;34m=\u001b[0m\u001b[0;34m'gray'\u001b[0m\u001b[0;34m)\u001b[0m\u001b[0;34m\u001b[0m\u001b[0;34m\u001b[0m\u001b[0m\n",
            "\u001b[0;31mNameError\u001b[0m: name 'params_100mil' is not defined"
          ]
        },
        {
          "output_type": "display_data",
          "data": {
            "text/plain": [
              "<Figure size 1500x1000 with 1 Axes>"
            ],
            "image/png": "[encoded data removed]"
          },
          "metadata": {}
        }
      ]
    },
    {
      "cell_type": "code",
      "execution_count": null,
      "metadata": {
        "id": "8VGY9QTIC6zu"
      },
      "outputs": [],
      "source": [
        "opt_state_200mil, train_loss, val_loss = train(loss,input, output, opt_state_100mil, key, nIter= 100000) #200.000\n",
        "params_200mil = get_params(opt_state_200mil)\n",
        "loss(params_200mil, input, output) #MSE"
      ]
    },
    {
      "cell_type": "code",
      "source": [
        "with open(f'{save_path}/params_200mil_{sigma}.pkl', 'wb') as f:\n",
        "    pickle.dump(params_200mil, f)\n",
        "\n",
        "with open(f'{save_path}/opt_state_200mil_{sigma}.pkl', 'wb') as f:\n",
        "    pickle.dump(opt_state_200mil, f)"
      ],
      "metadata": {
        "id": "Pr4TxeLkT6aQ"
      },
      "execution_count": null,
      "outputs": []
    },
    {
      "cell_type": "code",
      "source": [
        "with open(f'{save_path}/params_200mil_{sigma}.pkl', \"rb\") as f:\n",
        "    params_200mil = pickle.load(f)\n",
        "\n",
        "with open(f'{save_path}/opt_state_200mil_{sigma}.pkl', \"rb\") as f:\n",
        "    opt_state_200mil = pickle.load(f)"
      ],
      "metadata": {
        "id": "szo6IVAZUdQk"
      },
      "execution_count": null,
      "outputs": []
    },
    {
      "cell_type": "code",
      "source": [
        "loss(params_200mil, input, output) #MSE"
      ],
      "metadata": {
        "id": "UclE5FolXGJo"
      },
      "execution_count": null,
      "outputs": []
    },
    {
      "cell_type": "code",
      "source": [
        "psnr(params_200mil, input, k_space[selected_dirs])"
      ],
      "metadata": {
        "id": "qb0P4_I0Q5ke"
      },
      "execution_count": null,
      "outputs": []
    },
    {
      "cell_type": "code",
      "source": [
        "print(loss_orig(params_200mil, input, k_space[selected_dirs]))"
      ],
      "metadata": {
        "id": "OW95UoWTBKq7"
      },
      "execution_count": null,
      "outputs": []
    },
    {
      "cell_type": "code",
      "execution_count": null,
      "metadata": {
        "id": "b0LT_3aEC6zu"
      },
      "outputs": [],
      "source": [
        "plt.figure(figsize=(15,10))\n",
        "\n",
        "for i, inp in enumerate(input):\n",
        "    plt.subplot(4,3,i+1)\n",
        "    I = ff_forwardpass(inp, params_200mil)\n",
        "    I = I[:,0] + 1j*I[:,1] # imagen reconstruida a partir de los parámetros.\n",
        "    plt.imshow(np.abs(I).reshape((Nx, Ny)), cmap='gray')\n",
        "    plt.axis('off')\n",
        "\n",
        "plt.tight_layout()"
      ]
    },
    {
      "cell_type": "code",
      "execution_count": null,
      "metadata": {
        "id": "CQSTQwm0C6zu"
      },
      "outputs": [],
      "source": [
        "plt.figure(figsize=(15,10))\n",
        "\n",
        "for i, idx in enumerate(selected_dirs):\n",
        "    plt.subplot(4,3,i+1)\n",
        "\n",
        "    plt.imshow(np.abs(slice[idx]).reshape((Nx, Ny)), cmap='gray') # imagen slice del dataset original de tamaño Nx, Ny\n",
        "    plt.axis('off')\n",
        "\n",
        "plt.tight_layout()"
      ]
    },
    {
      "cell_type": "code",
      "source": [
        "# print(Nx, Ny)\n",
        "\n",
        "for i, idx in enumerate(selected_dirs):\n",
        "    plt.subplot(4,3,i+1)\n",
        "    inp = input[i]\n",
        "    Img = ff_forwardpass(inp, params_200mil)\n",
        "    Img = Img[:,0] + 1j*Img[:,1] # imagen reconstruida a partir de los parámetros.\n",
        "    I_img = np.abs(Img).reshape((Nx, Ny))\n",
        "    # print(I.shape)\n",
        "    # print(slice[idx].shape)\n",
        "    plt.imshow((np.abs(I_img) - np.abs(slice[idx])).reshape((Nx, Ny)), cmap='gray')\n",
        "    plt.axis('off')\n",
        "\n",
        "plt.tight_layout()\n"
      ],
      "metadata": {
        "id": "GnZOoV0Pz0Wb"
      },
      "execution_count": null,
      "outputs": []
    }
  ],
  "metadata": {
    "kernelspec": {
      "display_name": "Python 3",
      "name": "python3"
    },
    "language_info": {
      "codemirror_mode": {
        "name": "ipython",
        "version": 3
      },
      "file_extension": ".py",
      "mimetype": "text/x-python",
      "name": "python",
      "nbconvert_exporter": "python",
      "pygments_lexer": "ipython3",
      "version": "3.13.3"
    },
    "colab": {
      "provenance": [],
      "gpuType": "T4",
      "include_colab_link": true
    },
    "accelerator": "GPU"
  },
  "nbformat": 4,
  "nbformat_minor": 0
}