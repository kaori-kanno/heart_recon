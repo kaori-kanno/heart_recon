{
  "cells": [
    {
      "cell_type": "markdown",
      "metadata": {
        "id": "view-in-github",
        "colab_type": "text"
      },
      "source": [
        "<a href=\"https://colab.research.google.com/github/kaori-kanno/heart_recon/blob/main/recon_test_parteII_15lineas.ipynb\" target=\"_parent\"><img src=\"https://colab.research.google.com/assets/colab-badge.svg\" alt=\"Open In Colab\"/></a>"
      ]
    },
    {
      "cell_type": "markdown",
      "source": [
        "Usar GPU T4, si se requiere de hacer algo muy pesado, el A100"
      ],
      "metadata": {
        "id": "TjFd75FPffIM"
      }
    },
    {
      "cell_type": "code",
      "source": [
        "# esto nos permitirá ir cambiando fácilmente el nombre de los archivos que se vayan generando en este cuaderno\n",
        "\n",
        "nombre = '_15lineas'\n",
        "max_lines = 15 # máximo de líneas que conservaremos en cada máscara.\n",
        "bandwith = 4 # bandas a conservar al centro y a los extremos (información muy relevante en la imagen)\n",
        "\n",
        "# la mayoría tiene 13 líneas"
      ],
      "metadata": {
        "id": "VXtK-Yaua4Ch"
      },
      "execution_count": 1,
      "outputs": []
    },
    {
      "cell_type": "code",
      "execution_count": 2,
      "metadata": {
        "id": "P7-wTVveC6ze"
      },
      "outputs": [],
      "source": [
        "import numpy as np\n",
        "import matplotlib.pyplot as plt\n",
        "from scipy.io import loadmat\n",
        "# import inrmri"
      ]
    },
    {
      "cell_type": "code",
      "source": [
        "from google.colab import drive\n",
        "import os\n",
        "\n",
        "drive.mount('/content/drive') # directorio de todas las carpetas\n",
        "os.chdir(\"/content/drive/MyDrive/joint_recon/Pig_2\")\n",
        "!ls"
      ],
      "metadata": {
        "colab": {
          "base_uri": "https://localhost:8080/"
        },
        "id": "tWCO8UTIDOQy",
        "outputId": "5097dced-ced3-4751-8ff9-8cb085ffc97e"
      },
      "execution_count": 3,
      "outputs": [
        {
          "output_type": "stream",
          "name": "stdout",
          "text": [
            "Drive already mounted at /content/drive; to attempt to forcibly remount, call drive.mount(\"/content/drive\", force_remount=True).\n",
            "diffusion_directions.txt  kspace_real.mat   results_out3.pkl\n",
            "image_imag.mat\t\t  NF-cMRI-tabita    training_results_100k.pkl\n",
            "image_real.mat\t\t  results_out1.pkl  training_results_lr.pkl\n",
            "kspace_imag.mat\t\t  results_out2.pkl\n"
          ]
        }
      ]
    },
    {
      "cell_type": "code",
      "execution_count": 4,
      "metadata": {
        "id": "2ML5WNYoC6zg"
      },
      "outputs": [],
      "source": [
        "# ir = loadmat('Pig_2/image_real.mat')['image_real']\n",
        "# im = loadmat('Pig_2/image_imag.mat')['image_imag']\n",
        "\n",
        "ir_data = loadmat('/content/drive/MyDrive/joint_recon/Pig_2/image_real.mat')\n",
        "im_data = loadmat('/content/drive/MyDrive/joint_recon/Pig_2/image_imag.mat')"
      ]
    },
    {
      "cell_type": "code",
      "source": [
        "real = ir_data['image_real']\n",
        "imag = im_data['image_imag']"
      ],
      "metadata": {
        "id": "6Y4QXBEwF0GE"
      },
      "execution_count": 5,
      "outputs": []
    },
    {
      "cell_type": "code",
      "execution_count": 6,
      "metadata": {
        "id": "Px-xlRPCC6zh"
      },
      "outputs": [],
      "source": [
        "# kr = loadmat('Pig_2/kspace_real.mat')['kspace_real']\n",
        "# ki = loadmat('Pig_2/kspace_imag.mat')['kspace_imag']"
      ]
    },
    {
      "cell_type": "code",
      "execution_count": 7,
      "metadata": {
        "id": "6Aaj9G3MC6zi",
        "colab": {
          "base_uri": "https://localhost:8080/",
          "height": 341
        },
        "outputId": "1160c60d-0e28-4d4c-c8e7-7ec2014a3c42"
      },
      "outputs": [
        {
          "output_type": "execute_result",
          "data": {
            "text/plain": [
              "<matplotlib.image.AxesImage at 0x79aa9e154a50>"
            ]
          },
          "metadata": {},
          "execution_count": 7
        },
        {
          "output_type": "display_data",
          "data": {
            "text/plain": [
              "<Figure size 640x480 with 1 Axes>"
            ],
            "image/png": "[encoded data removed]"
          },
          "metadata": {}
        }
      ],
      "source": [
        "image = real + 1j*imag # combinamos la parte real e imaginaria para formar la imagen completa\n",
        "image = image/np.max(np.abs(image)) # se normaliza la imagen por el valor máximo\n",
        "\n",
        "plt.imshow(np.abs(image[:,:,24,4,1]), cmap='gray') # seleccionamos el corte 24, y ciertas direcciones de difusión"
      ]
    },
    {
      "cell_type": "code",
      "execution_count": 8,
      "metadata": {
        "id": "X7sxRQfZC6zj",
        "colab": {
          "base_uri": "https://localhost:8080/"
        },
        "outputId": "2a96178e-0d06-4831-c72d-91eb3076698d"
      },
      "outputs": [
        {
          "output_type": "stream",
          "name": "stdout",
          "text": [
            "(38, 72, 49, 5, 457)\n"
          ]
        }
      ],
      "source": [
        "print(image.shape) # (x, y, z, valores_b, direcciones)"
      ]
    },
    {
      "cell_type": "code",
      "execution_count": 9,
      "metadata": {
        "id": "3kaqWJn9C6zj",
        "colab": {
          "base_uri": "https://localhost:8080/",
          "height": 788
        },
        "outputId": "ebdc1f35-0b77-4b23-896e-6239c5c85f69"
      },
      "outputs": [
        {
          "output_type": "display_data",
          "data": {
            "text/plain": [
              "<Figure size 1000x1000 with 9 Axes>"
            ],
            "image/png": "[encoded data removed]"
          },
          "metadata": {}
        }
      ],
      "source": [
        "plt.figure(figsize=(10,10))\n",
        "\n",
        "for i in range(1, 10):\n",
        "    plt.subplot(3,3,i)\n",
        "    plt.imshow(np.abs(image[:,:,24,4,i]), cmap='gray') # cambiamos la última dirección i de difusión\n",
        "\n",
        "    plt.axis('off')\n",
        "\n",
        "plt.tight_layout()"
      ]
    },
    {
      "cell_type": "code",
      "execution_count": 10,
      "metadata": {
        "id": "INmyF2YxC6zk",
        "colab": {
          "base_uri": "https://localhost:8080/"
        },
        "outputId": "314d86e0-2670-4928-d53d-d5335fe07c8f"
      },
      "outputs": [
        {
          "output_type": "execute_result",
          "data": {
            "text/plain": [
              "(457, 38, 72)"
            ]
          },
          "metadata": {},
          "execution_count": 10
        }
      ],
      "source": [
        "# recortamos un slice de todas las imágenes en el plano XY\n",
        "slice = image[:,:,24,4,:]\n",
        "slice = np.transpose(slice, (2,0,1))\n",
        "slice.shape"
      ]
    },
    {
      "cell_type": "code",
      "execution_count": 11,
      "metadata": {
        "id": "WjzIJnolC6zl",
        "colab": {
          "base_uri": "https://localhost:8080/",
          "height": 341
        },
        "outputId": "69132a42-6503-4077-c23f-d7fc5666ed5f"
      },
      "outputs": [
        {
          "output_type": "execute_result",
          "data": {
            "text/plain": [
              "<matplotlib.image.AxesImage at 0x79aa0aec1cd0>"
            ]
          },
          "metadata": {},
          "execution_count": 11
        },
        {
          "output_type": "display_data",
          "data": {
            "text/plain": [
              "<Figure size 640x480 with 1 Axes>"
            ],
            "image/png": "[encoded data removed]"
          },
          "metadata": {}
        }
      ],
      "source": [
        "M0 = image[:,:,24,0,0].copy() # imagen con b = 0 en corte 24\n",
        "M0mask = np.abs(M0) > 0\n",
        "\n",
        "plt.imshow(np.abs(M0), cmap='gray')"
      ]
    },
    {
      "cell_type": "code",
      "execution_count": 12,
      "metadata": {
        "id": "TYr-djUmC6zm",
        "colab": {
          "base_uri": "https://localhost:8080/"
        },
        "outputId": "c66ed21a-3c1d-4c21-84df-812364d1aa14"
      },
      "outputs": [
        {
          "output_type": "execute_result",
          "data": {
            "text/plain": [
              "(np.float32(0.0), np.float32(0.86845744))"
            ]
          },
          "metadata": {},
          "execution_count": 12
        }
      ],
      "source": [
        "np.abs(M0).min(), np.abs(M0).max() # valores de grises mínimos y máximos en M0"
      ]
    },
    {
      "cell_type": "code",
      "execution_count": 13,
      "metadata": {
        "id": "QezjdGC9C6zm",
        "colab": {
          "base_uri": "https://localhost:8080/"
        },
        "outputId": "4448d571-a47b-4478-ed61-48051fb57fc2"
      },
      "outputs": [
        {
          "output_type": "execute_result",
          "data": {
            "text/plain": [
              "(457, 38, 72)"
            ]
          },
          "metadata": {},
          "execution_count": 13
        }
      ],
      "source": [
        "# aplicamos Fourier en las imágenes\n",
        "\n",
        "k_space = np.fft.fft2(slice)\n",
        "k_space.shape"
      ]
    },
    {
      "cell_type": "code",
      "execution_count": 14,
      "metadata": {
        "id": "KDmq5megC6zn",
        "colab": {
          "base_uri": "https://localhost:8080/"
        },
        "outputId": "dae12be0-de6f-4491-87e0-c024bfa54518"
      },
      "outputs": [
        {
          "output_type": "stream",
          "name": "stdout",
          "text": [
            "13\n",
            "13\n",
            "13\n",
            "13\n",
            "13\n",
            "13\n"
          ]
        }
      ],
      "source": [
        "n_masks = 6 # se crean máscaras en el espacio k para simular un muestreo de las imágenes\n",
        "masks = []\n",
        "for i in range(n_masks):\n",
        "    mask = np.zeros(k_space.shape[1:]).astype(bool) # creamos la máscara\n",
        "    mask[np.arange(i,k_space.shape[1],6)] = 1 # en la máscara creada, marca como 1 (o True) cada 6 pasos, partiendo en i.\n",
        "\n",
        "\n",
        "    # se conservan la banda superior e inferior como 1 o True:\n",
        "    mask[-bandwith:] = 1\n",
        "    mask[:bandwith] = 1\n",
        "\n",
        "    if mask[:,0].sum() > max_lines: # si se excede el número de líneas permitidas\n",
        "        idxs = np.where(mask[:,0]>0)[0] # se obtienen los índices de las filas\n",
        "        order = np.argsort(np.abs(idxs - mask.shape[0]//2))\n",
        "        idx = idxs[order][:(mask[:,0].sum() - max_lines)] # se ordenan las filas\n",
        "        print(idx, mask[idxs[0],0])\n",
        "        mask[idx,:] = 0 # se hacen 0 o False las líneas más alejadas del centro.\n",
        "\n",
        "    masks.append(mask)\n",
        "    print(mask[:,0].sum()) # imprimimos la suma de los valores que están en la fila 0 (deberían sumar max_lines)\n",
        "\n",
        "\n",
        "\n"
      ]
    },
    {
      "cell_type": "code",
      "source": [
        "# ploteamos las máscaras\n",
        "\n",
        "plt.figure(figsize=(10,10))\n",
        "\n",
        "for i, mask in enumerate(masks):\n",
        "    plt.subplot(2,3,i+1)\n",
        "    plt.imshow(np.fft.fftshift(mask), cmap='gray')\n",
        "\n",
        "plt.show()"
      ],
      "metadata": {
        "id": "cmfG2Z3ae35z",
        "colab": {
          "base_uri": "https://localhost:8080/",
          "height": 604
        },
        "outputId": "0aa63a74-17db-435c-8853-f5e0fc8a205e"
      },
      "execution_count": 15,
      "outputs": [
        {
          "output_type": "display_data",
          "data": {
            "text/plain": [
              "<Figure size 1000x1000 with 6 Axes>"
            ],
            "image/png": "[encoded data removed]"
          },
          "metadata": {}
        }
      ]
    },
    {
      "cell_type": "code",
      "execution_count": 16,
      "metadata": {
        "id": "yCC-OZAUC6zo",
        "colab": {
          "base_uri": "https://localhost:8080/"
        },
        "outputId": "89e99499-7dec-4431-fec9-9f7bd9bab0a8"
      },
      "outputs": [
        {
          "output_type": "execute_result",
          "data": {
            "text/plain": [
              "np.float64(2.923076923076923)"
            ]
          },
          "metadata": {},
          "execution_count": 16
        }
      ],
      "source": [
        "k_space.shape[1]/mask[:,0].sum() # cantidad de imágenes / cantidad de filas"
      ]
    },
    {
      "cell_type": "code",
      "execution_count": 17,
      "metadata": {
        "id": "M5oUl5lwC6zo",
        "colab": {
          "base_uri": "https://localhost:8080/",
          "height": 522
        },
        "outputId": "54d44468-8003-4095-91fb-7fd5123560b2"
      },
      "outputs": [
        {
          "output_type": "display_data",
          "data": {
            "text/plain": [
              "<Figure size 1500x900 with 6 Axes>"
            ],
            "image/png": "[encoded data removed]"
          },
          "metadata": {}
        }
      ],
      "source": [
        "plt.figure(figsize=(10,6), dpi = 150)\n",
        "\n",
        "for i, mask in enumerate(masks):\n",
        "    plt.subplot(2,3,i+1) # cuadrícula para los plots\n",
        "    under_k_space = np.zeros(k_space.shape[1:], dtype=np.complex128)\n",
        "    under_k_space[mask] = k_space[1][mask] # Se aplica mask sobre  k_space y se seleccionan solo las frecuencias de k_space[1] marcadas\n",
        "\n",
        "    under_i = np.fft.ifft2(under_k_space) # Se realiza la transformada inversa de Fourier 2D (ifft2) sobre under_k_space\n",
        "\n",
        "    plt.imshow(np.abs(under_i), cmap='gray') # se muestra la imagen reconstruída submuestreada.\n",
        "    plt.axis('off')\n",
        "\n",
        "plt.tight_layout()\n"
      ]
    },
    {
      "cell_type": "markdown",
      "metadata": {
        "id": "XeHB-bvtC6zo"
      },
      "source": [
        "## neural network"
      ]
    },
    {
      "cell_type": "code",
      "execution_count": 18,
      "metadata": {
        "id": "WnE3TgehC6zp"
      },
      "outputs": [],
      "source": [
        "import os\n",
        "\n",
        "os.environ[\"ENABLE_PJRT_COMPATIBILITY\"] = \"1\"\n",
        "\n",
        "import jax.numpy as np\n",
        "from jax import random, grad, jit, vmap\n",
        "import jax\n",
        "from jax.scipy.optimize import minimize\n",
        "import numpy as onp\n",
        "from jax.experimental.ode import odeint\n",
        "from jax.example_libraries import optimizers\n",
        "from functools import partial\n",
        "from matplotlib import pyplot as plt\n",
        "from jax.nn import relu\n",
        "key = random.PRNGKey(0)"
      ]
    },
    {
      "cell_type": "code",
      "execution_count": 19,
      "metadata": {
        "id": "givvaQdpC6zp"
      },
      "outputs": [],
      "source": [
        "def init_params(layers, key):\n",
        "  Ws = [] # lista de matrices de pesos\n",
        "  bs = [] # lista de vectores de sesgos\n",
        "  for i in range(len(layers) - 1):\n",
        "    std_glorot = np.sqrt(2/(layers[i] + layers[i + 1])) # mediante glorot se definen los pesos\n",
        "    key, subkey = random.split(key) # mantiene aleatoriedad controlada, mediante jax se asignan los pesos random\n",
        "    Ws.append(random.normal(subkey, (layers[i], layers[i + 1]))*std_glorot)\n",
        "    bs.append(np.zeros(layers[i + 1])) # se crean los pesos en 0\n",
        "  return (Ws, bs)\n",
        "\n",
        "@jit\n",
        "def forward_pass(H, params):\n",
        "  \"\"\"\n",
        "  Esta es un MLP\n",
        "  \"\"\"\n",
        "  Ws = params[0]\n",
        "  bs = params[1]\n",
        "  N_layers = len(Ws)\n",
        "  for i in range(N_layers - 1):\n",
        "    H = np.matmul(H, Ws[i]) + bs[i] # multiplicación de los pesos + bias\n",
        "    H = np.tanh(H) # función de activación no lineal aplicada en la red\n",
        "  Y = np.matmul(H, Ws[-1]) + bs[-1] # capa final sin función de activación\n",
        "  return Y\n",
        "\n",
        "def init_params_icnn(layers, key):\n",
        "  Wz = [] # pesos aplicados a Z (capas intermedias)\n",
        "  Wy = [] # pesos aplicados a Y (input original)\n",
        "  bs = [] # bias para cada capa oculta\n",
        "\n",
        "  std_glorot = np.sqrt(2/(layers[i] + layers[i + 1]))\n",
        "  key, subkey = random.split(key)\n",
        "  Wy.append(random.normal(subkey, (layers[0], layers[1]))*std_glorot)\n",
        "\n",
        "  for i in range(1,len(layers) - 1):\n",
        "    std_glorot = np.sqrt(2/(layers[i] + layers[i + 1]))\n",
        "    key, subkey = random.split(key)\n",
        "    Wz.append(-3 + random.normal(subkey, (layers[i], layers[i + 1]))*std_glorot) #Wz recibe pesos inicializados con ruido negativo (-3 + random...) para garantizar valores pequeños\n",
        "    Wy.append(random.normal(subkey, (layers[0], layers[i + 1]))*std_glorot) # se conecta la capa de entrada, 0, con las capas ocultas\n",
        "    bs.append(np.zeros(layers[i + 1]))\n",
        "  return (Wz, Wy, bs)\n",
        "\n",
        "@jit\n",
        "def icnn_forwardpass(Y, params): # se recorren hacia adelante las capas\n",
        "  \"\"\"\n",
        "  Esta es un ICNN\n",
        "  \"\"\"\n",
        "  Wz, Wy, bs = params\n",
        "  N_layers = len(Wy)\n",
        "  Z = relu(np.matmul(Y, Wy[0]) + bs[0])  # esta es la capa de entrada Y\n",
        "  for i in range(1, N_layers - 1): # aquí se recorren las capas intermedias\n",
        "    Z = np.matmul(Z, np.exp(Wz[i-1])) + np.matmul(Y, Wy[i]) + bs[i]\n",
        "    Z = relu(Z) # se da una función de activación\n",
        "  Z = np.matmul(Z, np.exp(Wz[-1])) + np.matmul(Y, Wy[-1]) + bs[-1]  # última capa, sin activación no lineal\n",
        "  return Z\n",
        "\n",
        "\n",
        "@jit\n",
        "def ff_forwardpass_B(X, params, B):\n",
        "  \"\"\"\n",
        "  Aplicar Fourier a la data de entrada x.\n",
        "  B es una matriz\n",
        "  \"\"\"\n",
        "  angles = 2*np.pi*vmap(np.dot, in_axes = (None, 0))(B, X) # calcula el producto punto entre cada fila de X y B, B @ X.T\n",
        "  # estos son los ángulos de los features\n",
        "  gamma = np.concatenate((np.sin(angles), np.cos(angles)), axis = 1) # Fourier Feature Mapping, un truco para mapear tus datos a un espacio más rico.\n",
        "  return forward_pass(gamma, params)  #  se pasa gamma por el MLP forward_pass\n",
        "\n",
        "@partial(jit, static_argnums=(0,))\n",
        "def step(loss, i, opt_state, X_batch, Y_batch):\n",
        "    params = get_params(opt_state)  # extrae los parámetros\n",
        "    g = grad(loss)(params, X_batch, Y_batch)  # calcula el gradiente de la función de pérdida respecto a los parámetros\n",
        "    return opt_update(i, g, opt_state) # actualiza los parámetros con un tamaño adecuado\n",
        "\n",
        "def train(loss, X, Y, opt_state, key, nIter = 10000, batch_size = 10):\n",
        "    \"\"\"\n",
        "    Aquí entrenamos el modelo para varias iteraciones con batches de data X e Y que se crean aquí\n",
        "    \"\"\"\n",
        "    train_loss = []\n",
        "    val_loss = []\n",
        "    for it in range(nIter):\n",
        "        key, subkey = random.split(key)\n",
        "        # idx_batch = random.choice(subkey, X.shape[0], shape = (batch_size,), replace = False) # toma un batch aleatorio\n",
        "        opt_state = step(loss, it, opt_state, X, Y) # actualiza los parámetros con step\n",
        "       # opt_state = step(loss, it, opt_state, X, Y)\n",
        "        if it % 100 == 0:  # cada 100 iteraciones:\n",
        "            params = get_params(opt_state)\n",
        "            train_loss_value = loss(params, X, Y) # train_loss_value = loss(params, X[idx_batch], Y[idx_batch])\n",
        "            train_loss.append(train_loss_value)  # mide la pérdida del batch\n",
        "            to_print = \"it %i, train loss = %e\" % (it, train_loss_value)\n",
        "            print(to_print)\n",
        "    return opt_state, train_loss, val_loss\n",
        "\n",
        "def train_batch(loss, Xb, Yb, opt_state, key, nIter = 10000):\n",
        "    train_loss = []\n",
        "    val_loss = []\n",
        "    it = 0\n",
        "    while it < nIter: # itera en los batches\n",
        "        for X, Y in zip(Xb, Yb): # Xb, Yb son listas de batches\n",
        "          opt_state = step(loss, it, opt_state, X, Y)\n",
        "          it += 1\n",
        "          if it % 100 == 0:\n",
        "              params = get_params(opt_state)\n",
        "              train_loss_value = loss(params, X, Y)\n",
        "              train_loss.append(train_loss_value)\n",
        "              to_print = \"it %i, train loss = %e\" % (it, train_loss_value)\n",
        "              print(to_print)\n",
        "    return get_params(opt_state), train_loss, val_loss\n",
        "\n",
        "def create_batches(input, output, batch_size):\n",
        "    \"\"\"\n",
        "    Divide los datos en mini-batches y los devuelve\n",
        "    \"\"\"\n",
        "    # Ensure input and output have the same first dimension length\n",
        "    assert input.shape[0] == output.shape[0], \"Input and output must have the same number of samples\"\n",
        "\n",
        "    num_samples = input.shape[0]  # número de muestras totales\n",
        "\n",
        "    # Shuffle indices\n",
        "    shuffled_indices = random.permutation(jax.random.PRNGKey(0), num_samples) # Crea un orden aleatorio de los índices (0 a num_samples-1)\n",
        "    input_shuffled = input[shuffled_indices]\n",
        "    output_shuffled = output[shuffled_indices] # reordena las muestras del output\n",
        "\n",
        "    # Split the data into batches\n",
        "    # Devuelve listas con batches de X e Y, listas de tamaño num_batches.\n",
        "    input_batches = np.array_split(input_shuffled, num_samples // batch_size)\n",
        "    output_batches = np.array_split(output_shuffled, num_samples // batch_size)\n",
        "\n",
        "    return input_batches, output_batches\n",
        "\n",
        "\n"
      ]
    },
    {
      "cell_type": "code",
      "execution_count": 20,
      "metadata": {
        "id": "DUU9qxYbC6zq"
      },
      "outputs": [],
      "source": [
        "@jit\n",
        "def cartesian_to_spherical(x):\n",
        "    \"\"\"\n",
        "    Se toma un vector 3D y se convierte a esféricas\n",
        "    \"\"\"\n",
        "    r = np.sqrt(x[0]**2 + x[1]**2 + x[2]**2)\n",
        "    theta = np.arccos(x[2] / r)  # polar angle\n",
        "    phi = np.arctan2(x[1], x[0])    # azimuthal angle\n",
        "    return r, theta, phi"
      ]
    },
    {
      "cell_type": "code",
      "execution_count": 21,
      "metadata": {
        "id": "TGm0LPpvC6zq"
      },
      "outputs": [],
      "source": [
        "# cargamos las direcciones de gradiente de difusión, son 457\n",
        "\n",
        "dirs = onp.genfromtxt('diffusion_directions.txt', delimiter=';')\n",
        "\n",
        "R, Theta, Phi= vmap(cartesian_to_spherical)(dirs) # vmap opera sobre un batch o conjunto de datos la operación dada\n",
        "\n",
        "As = np.cos(Theta) # proyección en z de las direcciones\n",
        "Bs = np.cos(Phi) # proyección en el plano XY\n",
        "\n"
      ]
    },
    {
      "cell_type": "markdown",
      "metadata": {
        "id": "NVf9LS39C6zq"
      },
      "source": [
        "Acabamos de procesar direcciones existentes, podemos ahora mapear direcciones ideales:"
      ]
    },
    {
      "cell_type": "code",
      "execution_count": 22,
      "metadata": {
        "id": "2A-LQtymC6zq"
      },
      "outputs": [],
      "source": [
        "import mpl_toolkits.mplot3d\n",
        "\n",
        "num_pts = 24\n",
        "b_value = 6500\n",
        "indices = np.arange(0, num_pts, dtype=float) + 0.5  # entrega valores igualmente espaciados en el rango (0, num_pts)\n",
        "# sumamos 0.5 para que no sean los puntos de los extremos o los polos de la esfera.\n",
        "\n",
        "phi = np.arccos(1 - 2*indices/num_pts) # esfera de Fibonacci\n",
        "theta = np.pi * (1 + 5**0.5) * indices # esfera de Fibonacci, espiral con proporción áurea\n",
        "\n",
        "# convertimos de esféricas a cartesianas con r = 1\n",
        "# fórmula de fibonachi para una esfera donde los puntos están equidistantes repartidos.\n",
        "x, y, z = np.cos(theta) * np.sin(phi), np.sin(theta) * np.sin(phi), np.cos(phi)\n",
        "\n",
        "\n",
        "# solo necesitamos mapear en una semi-esfera por simetría:\n",
        "x_half = x[np.where(z >=0)]\n",
        "y_half = y[np.where(z >=0)]\n",
        "z_half = z[np.where(z >=0)]\n",
        "b_value = np.repeat(b_value,x_half.shape[0])  # añadimos b al arreglo\n",
        "\n",
        "\n",
        "\n",
        "directions = np.array([x_half,z_half,y_half]).transpose() # vector de dirección en 3d, (x, z, y)"
      ]
    },
    {
      "cell_type": "code",
      "execution_count": 23,
      "metadata": {
        "id": "WnEYaz7WC6zr",
        "colab": {
          "base_uri": "https://localhost:8080/",
          "height": 447
        },
        "outputId": "8c4fa2ea-33bd-4ad9-e34f-00577b559895"
      },
      "outputs": [
        {
          "output_type": "execute_result",
          "data": {
            "text/plain": [
              "<matplotlib.collections.PathCollection at 0x79a8e6ddac50>"
            ]
          },
          "metadata": {},
          "execution_count": 23
        },
        {
          "output_type": "display_data",
          "data": {
            "text/plain": [
              "<Figure size 640x480 with 1 Axes>"
            ],
            "image/png": "[encoded data removed]"
          },
          "metadata": {}
        }
      ],
      "source": [
        "plt.scatter(x_half, y_half, c = np.arange(x_half.shape[0]))"
      ]
    },
    {
      "cell_type": "code",
      "execution_count": 24,
      "metadata": {
        "id": "Ptlh6kukC6zr",
        "colab": {
          "base_uri": "https://localhost:8080/",
          "height": 482
        },
        "outputId": "c46ba5c2-ed22-4607-e749-6cae4a16f56b"
      },
      "outputs": [
        {
          "output_type": "execute_result",
          "data": {
            "text/plain": [
              "Array([0.99878776, 0.99778694, 0.9992423 , 0.9993435 , 0.99963474,\n",
              "       0.99878   , 0.99890304, 0.9988388 , 0.999093  , 0.9991267 ,\n",
              "       0.9997292 , 0.99772215], dtype=float32)"
            ]
          },
          "metadata": {},
          "execution_count": 24
        },
        {
          "output_type": "display_data",
          "data": {
            "text/plain": [
              "<Figure size 640x480 with 1 Axes>"
            ],
            "image/png": "[encoded data removed]"
          },
          "metadata": {}
        }
      ],
      "source": [
        "# calculamos el producto punto entre cada dirección dir creada de direction con las otras direcciones dirs del scaner\n",
        "ort = vmap(lambda dir, dirs: np.dot(dir,dirs), in_axes=(None, 0))(directions, dirs)\n",
        "\n",
        "\n",
        "selected_dirs = np.argmax(ort, axis = 0) # el de mayor producto punto será la dirección más cercana\n",
        "selected_dirs_vec = dirs[selected_dirs] # guardamos esas direcciones\n",
        "\n",
        "plt.scatter(x_half, y_half, c = np.arange(x_half.shape[0]))\n",
        "plt.scatter(selected_dirs_vec[:,0], selected_dirs_vec[:,2], c = np.arange(x_half.shape[0]), marker = 'x')\n",
        "np.max(ort, axis = 0)"
      ]
    },
    {
      "cell_type": "code",
      "execution_count": 25,
      "metadata": {
        "id": "F7pErEoxC6zs",
        "colab": {
          "base_uri": "https://localhost:8080/"
        },
        "outputId": "ae965132-2118-4d93-a57b-7afb7681a169"
      },
      "outputs": [
        {
          "output_type": "stream",
          "name": "stdout",
          "text": [
            "(12, 38, 72)\n",
            "(12, 2736, 4) (11232,)\n"
          ]
        }
      ],
      "source": [
        "# coordenadas del sistema:\n",
        "Nx = k_space.shape[1] # tamaño de la transformada de fourier en x\n",
        "Ny = k_space.shape[2] # tamaño de la transformada de fourier en y\n",
        "x = np.arange(Nx)/(Nx - 1)*2 - 1 # normaliza las coordenadas Nx a valores entre -1 y 1\n",
        "y = np.arange(Ny)/(Nx - 1)*2 - 1 # [0 a Ny-1]/(Ny-1) = [0 - 1]\n",
        "\n",
        "X, Y = np.meshgrid(x, y, indexing = 'ij') # X, Y = np.meshgrid(x, y)\n",
        "Xall = np.c_[X.flatten(), Y.flatten()] # aplana y concatena X con Y\n",
        "\n",
        "# creamos las máscaras\n",
        "masks = np.array(masks)\n",
        "masks_rep = np.concatenate((masks, masks), axis = 0)  # se le agregan máscaras # masks_rep = np.concatenate((masks, masks[:3]), axis = 0)\n",
        "input = []\n",
        "output = []\n",
        "\n",
        "for i,dir_idx in enumerate(selected_dirs): # son 9 puntos en selected_dirs\n",
        "    input.append(np.c_[Xall, np.ones(Xall.shape[0])*As[dir_idx], np.ones(Xall.shape[0])*Bs[dir_idx]]) # (xs, ys, cos(th), cos(phi))\n",
        "input = np.array(input)\n",
        "# recordar que Xall.shape = (Nx * Ny, 2) y As[dir_idx] sería la dirección de un vector de selected_dirs\n",
        "\n",
        "\n",
        "\n",
        "print(k_space[selected_dirs].shape) # (num_puntos 12, x, y)\n",
        "output = k_space[selected_dirs][masks_rep] # se le aplica la máscara a las direcciones seleccionados.\n",
        "print(input.shape, output.shape) # (num_puntos 12, num_puntos_visibles Nx*Ny, 4 (x, y, cos, cos)) y un valor\n"
      ]
    },
    {
      "cell_type": "markdown",
      "metadata": {
        "id": "b0BjuSc_C6zs"
      },
      "source": [
        "### first training"
      ]
    },
    {
      "cell_type": "code",
      "execution_count": 26,
      "metadata": {
        "id": "CErW0hihC6zt"
      },
      "outputs": [],
      "source": [
        "masks = np.array(masks)\n",
        "\n",
        "@jit\n",
        "def forward_model(X, params):\n",
        "    I = ff_forwardpass(X, params) # pasa por la función de más abajo que lleva a ff_forwwardpass_mixed\n",
        "    I = I[:,0] + 1j*I[:,1] # se convierte la imagen a una compleja\n",
        "    I = I.reshape((Nx, Ny)) # I = I.reshape(mask.shape) # se reconstruye la imagen\n",
        "    k_space = np.fft.fft2(I) # transforma a k-space\n",
        "    return k_space\n",
        "\n",
        "n_pix = k_space.shape[1]*k_space.shape[2]\n",
        "\n",
        "@jit\n",
        "def loss(params, input, Y):\n",
        "\n",
        "  k_spaces = vmap(partial(forward_model, params = params))(input) # simula varios k-space con forward_model\n",
        "  return np.mean(np.abs((np.squeeze(k_spaces[masks_rep]) - Y))**2/(n_pix)) # se calcula el error entre el k-space simulado y el real partido en npix\n",
        "\n",
        "\n",
        "@jit\n",
        "def ff_forwardpass_mixed(X, params, B):\n",
        "  angles = 2*np.pi*vmap(np.dot, in_axes = (None, 0))(B, X[:,:2]) # 2pi * (proyecciones)\n",
        "  input = np.concatenate((np.sin(angles), np.cos(angles), X[:,2:]), axis = 1)\n",
        "  return forward_pass(input, params)\n",
        "\n",
        "sigma = 0.15\n",
        "N_ff = 256\n",
        "key = random.PRNGKey(0)\n",
        "B = random.normal(key, shape = (N_ff,2))*sigma # B es aleatorio\n",
        "\n",
        "ff_forwardpass = lambda x, params: ff_forwardpass_mixed(x,params,B)\n",
        "\n",
        "layers = [2*N_ff+2, 256, 256,256, 2] # define las capas de la red; capa de entrada, 3 capas ocultas de 256 neuronas y 2 neuronas de salida para parte real e im\n",
        "params = init_params(layers, key)\n",
        "\n"
      ]
    },
    {
      "cell_type": "code",
      "source": [
        "def psnr(params, input, Y):\n",
        "\n",
        "  k_spaces = vmap(partial(forward_model, params = params))(input) # simula varios k-space con forward_model\n",
        "  print(k_spaces.shape)\n",
        "  mse = np.mean(np.abs((k_spaces - Y))**2/(n_pix))\n",
        "  max_value = np.max(np.abs(Y))\n",
        "  return 20 * np.log10(max_value / (np.sqrt(mse)))"
      ],
      "metadata": {
        "id": "q7VJUgJMDY80"
      },
      "execution_count": 27,
      "outputs": []
    },
    {
      "cell_type": "code",
      "source": [
        "def loss_orig(params, input, Y):\n",
        "  k_spaces = vmap(partial(forward_model, params = params))(input) # simula varios k-space con forward_model\n",
        "  return np.mean(np.abs((k_spaces - Y))**2/(n_pix))"
      ],
      "metadata": {
        "id": "6aslaALq--py"
      },
      "execution_count": 28,
      "outputs": []
    },
    {
      "cell_type": "code",
      "source": [
        "#lr = optimizers.exponential_decay(1e-3, decay_steps=1000, decay_rate=0.99)\n",
        "opt_init, opt_update, get_params = optimizers.adam(1e-3)  #  Adam con learning rate 1e-3\n",
        "opt_state = opt_init(params)\n",
        "# opt_state_mil, train_loss, val_loss = train(loss,input, output, opt_state, key, nIter= 1000) # 1000"
      ],
      "metadata": {
        "id": "ouTV1aWEZnGr"
      },
      "execution_count": 29,
      "outputs": []
    },
    {
      "cell_type": "code",
      "source": [
        "import pickle\n",
        "save_path='/content/drive/MyDrive/joint_recon'\n"
      ],
      "metadata": {
        "id": "sHbyamg2cZMI"
      },
      "execution_count": 30,
      "outputs": []
    },
    {
      "cell_type": "code",
      "source": [
        "with open(f'{save_path}/params_100mil{nombre}.pkl', \"rb\") as f:\n",
        "    params_100mil = pickle.load(f)\n",
        "\n",
        "with open(f'{save_path}/opt_state_100mil{nombre}.pkl', \"rb\") as f:\n",
        "    opt_state_100mil = pickle.load(f)"
      ],
      "metadata": {
        "id": "eajVoMNOUYDv"
      },
      "execution_count": 31,
      "outputs": []
    },
    {
      "cell_type": "code",
      "source": [
        "with open(f'{save_path}/params_200mil{nombre}.pkl', \"rb\") as f:\n",
        "    params_200mil = pickle.load(f)\n",
        "\n",
        "with open(f'{save_path}/opt_state_200mil{nombre}.pkl', \"rb\") as f:\n",
        "    opt_state_200mil = pickle.load(f)"
      ],
      "metadata": {
        "id": "szo6IVAZUdQk"
      },
      "execution_count": 32,
      "outputs": []
    },
    {
      "cell_type": "markdown",
      "source": [
        "#### Second try first training:\n",
        "\n",
        "Probamos aquí cambiando el número de neuronas de cada capa"
      ],
      "metadata": {
        "id": "zVM5bZOsglVk"
      }
    },
    {
      "cell_type": "code",
      "source": [
        "with open(f'{save_path}/params_1{nombre}.pkl', \"rb\") as f:\n",
        "    params1 = pickle.load(f)\n",
        "\n",
        "with open(f'{save_path}/opt_state_1{nombre}.pkl', \"rb\") as f:\n",
        "    opt_state1 = pickle.load(f)"
      ],
      "metadata": {
        "id": "5CBoLhONTC7-"
      },
      "execution_count": 33,
      "outputs": []
    },
    {
      "cell_type": "markdown",
      "source": [
        "Probamos ahora cambiar el número de capas en sí"
      ],
      "metadata": {
        "id": "FmrCvIrilgmG"
      }
    },
    {
      "cell_type": "code",
      "source": [
        "with open(f'{save_path}/params_2{nombre}.pkl', \"rb\") as f:\n",
        "    params2 = pickle.load(f)\n",
        "\n",
        "with open(f'{save_path}/opt_state_2{nombre}.pkl', \"rb\") as f:\n",
        "    opt_state2 = pickle.load(f)"
      ],
      "metadata": {
        "id": "7lylOV0dTSwt"
      },
      "execution_count": 34,
      "outputs": []
    },
    {
      "cell_type": "markdown",
      "source": [
        "Agregamos un decay en el learning rate"
      ],
      "metadata": {
        "id": "fSIQAmiLz7hU"
      }
    },
    {
      "cell_type": "code",
      "source": [
        "with open(f'{save_path}/params_lr_exp{nombre}.pkl', \"rb\") as f:\n",
        "    params_lr_exp = pickle.load(f)\n",
        "\n",
        "with open(f'{save_path}/opt_state_lr_exp{nombre}.pkl', \"rb\") as f:\n",
        "    opt_state_lr_exp = pickle.load(f)"
      ],
      "metadata": {
        "id": "Cj2LZ_BXkcZy"
      },
      "execution_count": 35,
      "outputs": []
    },
    {
      "cell_type": "code",
      "source": [
        "with open(f'{save_path}/params_lr_exp200{nombre}.pkl', \"rb\") as f:\n",
        "    params_lr_exp200 = pickle.load(f)\n",
        "\n",
        "with open(f'{save_path}/opt_state_lr_exp200{nombre}.pkl', \"rb\") as f:\n",
        "    opt_state_lr_exp200 = pickle.load(f)"
      ],
      "metadata": {
        "id": "ZghMna3SgacH"
      },
      "execution_count": 36,
      "outputs": []
    },
    {
      "cell_type": "code",
      "source": [
        "with open(f'{save_path}/params_mae{nombre}.pkl', \"rb\") as f:\n",
        "    params_sigma4 = pickle.load(f)\n",
        "\n",
        "with open(f'{save_path}/opt_state_mae{nombre}.pkl', \"rb\") as f:\n",
        "    opt_state_sigma4 = pickle.load(f)"
      ],
      "metadata": {
        "id": "yWTLQyzgfxdh"
      },
      "execution_count": 37,
      "outputs": []
    },
    {
      "cell_type": "markdown",
      "source": [
        "## Parte II"
      ],
      "metadata": {
        "id": "vgOO6x2Zfzl-"
      }
    },
    {
      "cell_type": "markdown",
      "metadata": {
        "id": "MBMOI38UC6zu"
      },
      "source": [
        "### second training:\n",
        "\n",
        "#### primer intento\n",
        " Aquí se usa $M_0$, la magnitud en $b_0$"
      ]
    },
    {
      "cell_type": "code",
      "source": [
        "# params_probar = params_100mil\n",
        "# nombre_fib = \"fiber_100mil\"\n",
        "\n",
        "params_probar = params1\n",
        "nombre_fib = \"fiber1\"\n",
        "\n",
        "# params_probar = params_200mil\n",
        "# nombre_fib = \"fiber_200mil\"\n",
        "\n",
        "# fuhufuishfuiehfuiehuiehfuerhfifhreuifheruihfiuehhrehfreifeorijfriofjeriojfioeiferjfierjfirejfoefjierojfirejfrfeiofjeriofjeiofjierjfirejfiojfor"
      ],
      "metadata": {
        "id": "D4jvsKnzYqfG"
      },
      "execution_count": 38,
      "outputs": []
    },
    {
      "cell_type": "code",
      "execution_count": 39,
      "metadata": {
        "id": "KcqERGePC6z1"
      },
      "outputs": [],
      "source": [
        "input_f = [] # lista de inputs para cada dirección\n",
        "output_f = [] # lista de outputs para cada dirección\n",
        "\n",
        "for i,dir_idx in enumerate(selected_dirs): # se itera sobre las direcciones dir_idx\n",
        "    input_f.append(np.c_[Xall,np.tile(dirs[dir_idx], (Xall.shape[0],1))]) # posiciones X_all + direcciones dirs[10] = num_pixeles, 2 posiciones + 3 direcciones (x, y, z), simulamos solo la direccion 10\n",
        "    Img = ff_forwardpass(input[i], params_probar)\n",
        "    Img = Img[:,0] + 1j*Img[:,1] # reconstruimos la imagen i\n",
        "    output_f.append(np.log(np.abs(Img)+1e-6)) # agregamos log para trabajar en escala logarítmica, +1e-6 evita log(0)\n",
        "\n",
        "\n",
        "# convertimos las listas a arrays:\n",
        "input_f = np.array(input_f)\n",
        "output_f = np.array(output_f)\n",
        "\n",
        "logM0 = np.log(np.abs(M0)).ravel()\n",
        "M0mask = np.array(M0mask).ravel() # selecciona los puntos dentro de M0, evitando ruido del fondo"
      ]
    },
    {
      "cell_type": "markdown",
      "metadata": {
        "id": "IQRfexQWC6z1"
      },
      "source": [
        "Aquí, una es una parte isotrópica dada por dI y otra es la parte anisotrópica dada por df. Esto indica cuánta difusión hay, y por tanto indica cuánto se atenúa la señal."
      ]
    },
    {
      "cell_type": "code",
      "execution_count": null,
      "metadata": {
        "id": "lEXJZA4lC6z1",
        "colab": {
          "base_uri": "https://localhost:8080/"
        },
        "outputId": "6a16a9c2-26b9-4a54-ae26-963122616156"
      },
      "outputs": [
        {
          "output_type": "stream",
          "name": "stdout",
          "text": [
            "it 0, train loss = 3.362864e+01\n",
            "it 100, train loss = 2.215395e+00\n",
            "it 200, train loss = 2.108319e+00\n",
            "it 300, train loss = 2.075907e+00\n",
            "it 400, train loss = 2.060323e+00\n",
            "it 500, train loss = 2.011285e+00\n",
            "it 600, train loss = 2.006517e+00\n",
            "it 700, train loss = 1.946276e+00\n",
            "it 800, train loss = 1.916227e+00\n",
            "it 900, train loss = 1.898591e+00\n",
            "it 1000, train loss = 1.931328e+00\n",
            "it 1100, train loss = 1.890972e+00\n",
            "it 1200, train loss = 1.877591e+00\n",
            "it 1300, train loss = 1.880170e+00\n",
            "it 1400, train loss = 1.866346e+00\n",
            "it 1500, train loss = 1.845463e+00\n",
            "it 1600, train loss = 6.901563e+00\n",
            "it 1700, train loss = 6.004008e+00\n",
            "it 1800, train loss = 5.988425e+00\n",
            "it 1900, train loss = 5.980268e+00\n",
            "it 2000, train loss = 5.972688e+00\n",
            "it 2100, train loss = 5.965590e+00\n",
            "it 2200, train loss = 5.959471e+00\n",
            "it 2300, train loss = 5.954245e+00\n",
            "it 2400, train loss = 5.949679e+00\n",
            "it 2500, train loss = 5.945844e+00\n",
            "it 2600, train loss = 5.944283e+00\n",
            "it 2700, train loss = 5.941465e+00\n",
            "it 2800, train loss = 5.939793e+00\n",
            "it 2900, train loss = 5.942929e+00\n",
            "it 3000, train loss = 5.940175e+00\n",
            "it 3100, train loss = 5.940205e+00\n",
            "it 3200, train loss = 5.938631e+00\n",
            "it 3300, train loss = 5.932253e+00\n",
            "it 3400, train loss = 5.943273e+00\n",
            "it 3500, train loss = 5.929731e+00\n",
            "it 3600, train loss = 6.662826e+00\n",
            "it 3700, train loss = 5.975281e+00\n",
            "it 3800, train loss = 5.953355e+00\n",
            "it 3900, train loss = 5.944517e+00\n",
            "it 4000, train loss = 5.939690e+00\n",
            "it 4100, train loss = 5.936928e+00\n",
            "it 4200, train loss = 5.934663e+00\n",
            "it 4300, train loss = 5.938263e+00\n",
            "it 4400, train loss = 5.939187e+00\n",
            "it 4500, train loss = 5.932919e+00\n",
            "it 4600, train loss = 5.930502e+00\n",
            "it 4700, train loss = 5.930209e+00\n",
            "it 4800, train loss = 5.927479e+00\n",
            "it 4900, train loss = 5.930149e+00\n",
            "it 5000, train loss = 5.990902e+00\n",
            "it 5100, train loss = 5.937143e+00\n",
            "it 5200, train loss = 5.929940e+00\n",
            "it 5300, train loss = 5.927231e+00\n",
            "it 5400, train loss = 5.925646e+00\n",
            "it 5500, train loss = 5.924545e+00\n",
            "it 5600, train loss = 5.923689e+00\n",
            "it 5700, train loss = 5.923145e+00\n",
            "it 5800, train loss = 5.923375e+00\n",
            "it 5900, train loss = 5.922269e+00\n",
            "it 6000, train loss = 5.921587e+00\n",
            "it 6100, train loss = 5.930914e+00\n",
            "it 6200, train loss = 5.921119e+00\n",
            "it 6300, train loss = 5.921142e+00\n",
            "it 6400, train loss = 5.922262e+00\n",
            "it 6500, train loss = 5.920200e+00\n",
            "it 6600, train loss = 5.929533e+00\n",
            "it 6700, train loss = 5.918657e+00\n",
            "it 6800, train loss = 5.928116e+00\n",
            "it 6900, train loss = 5.926411e+00\n",
            "it 7000, train loss = 5.928144e+00\n",
            "it 7100, train loss = 5.921992e+00\n",
            "it 7200, train loss = 5.916874e+00\n",
            "it 7300, train loss = 5.916452e+00\n",
            "it 7400, train loss = 5.915987e+00\n",
            "it 7500, train loss = 5.916101e+00\n",
            "it 7600, train loss = 5.915294e+00\n",
            "it 7700, train loss = 5.914994e+00\n",
            "it 7800, train loss = 5.914660e+00\n",
            "it 7900, train loss = 5.940437e+00\n",
            "it 8000, train loss = 5.914059e+00\n",
            "it 8100, train loss = 5.913359e+00\n",
            "it 8200, train loss = 5.913158e+00\n",
            "it 8300, train loss = 5.914991e+00\n",
            "it 8400, train loss = 5.912714e+00\n",
            "it 8500, train loss = 5.913661e+00\n",
            "it 8600, train loss = 5.923635e+00\n",
            "it 8700, train loss = 5.912185e+00\n",
            "it 8800, train loss = 5.911961e+00\n",
            "it 8900, train loss = 5.914246e+00\n",
            "it 9000, train loss = 5.910892e+00\n",
            "it 9100, train loss = 5.910951e+00\n",
            "it 9200, train loss = 5.911398e+00\n",
            "it 9300, train loss = 5.909673e+00\n",
            "it 9400, train loss = 5.910807e+00\n",
            "it 9500, train loss = 5.909271e+00\n",
            "it 9600, train loss = 5.908991e+00\n",
            "it 9700, train loss = 5.908474e+00\n",
            "it 9800, train loss = 5.908699e+00\n",
            "it 9900, train loss = 5.910265e+00\n",
            "it 10000, train loss = 5.909035e+00\n",
            "it 10100, train loss = 5.907212e+00\n",
            "it 10200, train loss = 5.907175e+00\n",
            "it 10300, train loss = 5.908798e+00\n",
            "it 10400, train loss = 5.906093e+00\n",
            "it 10500, train loss = 5.905700e+00\n",
            "it 10600, train loss = 5.905641e+00\n",
            "it 10700, train loss = 5.905031e+00\n",
            "it 10800, train loss = 5.906167e+00\n",
            "it 10900, train loss = 5.904584e+00\n",
            "it 11000, train loss = 5.913055e+00\n",
            "it 11100, train loss = 5.903516e+00\n",
            "it 11200, train loss = 5.903224e+00\n",
            "it 11300, train loss = 5.902831e+00\n",
            "it 11400, train loss = 5.902504e+00\n",
            "it 11500, train loss = 5.903805e+00\n",
            "it 11600, train loss = 5.902146e+00\n",
            "it 11700, train loss = 5.903510e+00\n",
            "it 11800, train loss = 5.901674e+00\n",
            "it 11900, train loss = 5.901701e+00\n",
            "it 12000, train loss = 5.903208e+00\n",
            "it 12100, train loss = 5.901190e+00\n",
            "it 12200, train loss = 5.903453e+00\n",
            "it 12300, train loss = 5.901161e+00\n",
            "it 12400, train loss = 5.901117e+00\n",
            "it 12500, train loss = 5.900721e+00\n",
            "it 12600, train loss = 5.901120e+00\n",
            "it 12700, train loss = 5.904862e+00\n",
            "it 12800, train loss = 5.902048e+00\n",
            "it 12900, train loss = 5.900302e+00\n",
            "it 13000, train loss = 5.900269e+00\n",
            "it 13100, train loss = 5.902961e+00\n",
            "it 13200, train loss = 5.900240e+00\n",
            "it 13300, train loss = 5.902419e+00\n",
            "it 13400, train loss = 5.899883e+00\n",
            "it 13500, train loss = 5.899985e+00\n",
            "it 13600, train loss = 5.899722e+00\n",
            "it 13700, train loss = 5.899582e+00\n",
            "it 13800, train loss = 5.899692e+00\n",
            "it 13900, train loss = 5.899327e+00\n",
            "it 14000, train loss = 5.904357e+00\n",
            "it 14100, train loss = 5.899247e+00\n",
            "it 14200, train loss = 5.899514e+00\n",
            "it 14300, train loss = 5.899374e+00\n",
            "it 14400, train loss = 5.899095e+00\n",
            "it 14500, train loss = 5.903093e+00\n",
            "it 14600, train loss = 6.622703e+00\n",
            "it 14700, train loss = 5.920769e+00\n",
            "it 14800, train loss = 5.912657e+00\n",
            "it 14900, train loss = 5.909279e+00\n",
            "it 15000, train loss = 5.906460e+00\n",
            "it 15100, train loss = 5.904601e+00\n",
            "it 15200, train loss = 5.903338e+00\n",
            "it 15300, train loss = 5.904456e+00\n",
            "it 15400, train loss = 5.902063e+00\n",
            "it 15500, train loss = 5.902569e+00\n",
            "it 15600, train loss = 5.901359e+00\n",
            "it 15700, train loss = 5.900681e+00\n",
            "it 15800, train loss = 5.900902e+00\n",
            "it 15900, train loss = 5.900302e+00\n",
            "it 16000, train loss = 5.900067e+00\n",
            "it 16100, train loss = 5.901081e+00\n",
            "it 16200, train loss = 5.900055e+00\n",
            "it 16300, train loss = 5.899687e+00\n",
            "it 16400, train loss = 5.900024e+00\n",
            "it 16500, train loss = 5.899535e+00\n",
            "it 16600, train loss = 5.899315e+00\n",
            "it 16700, train loss = 5.900103e+00\n",
            "it 16800, train loss = 5.899339e+00\n",
            "it 16900, train loss = 5.899963e+00\n",
            "it 17000, train loss = 5.899038e+00\n",
            "it 17100, train loss = 5.898879e+00\n",
            "it 17200, train loss = 5.899380e+00\n",
            "it 17300, train loss = 5.898786e+00\n",
            "it 17400, train loss = 5.898964e+00\n",
            "it 17500, train loss = 5.898867e+00\n",
            "it 17600, train loss = 5.898682e+00\n",
            "it 17700, train loss = 5.898576e+00\n",
            "it 17800, train loss = 5.898720e+00\n",
            "it 17900, train loss = 5.898877e+00\n",
            "it 18000, train loss = 5.898375e+00\n",
            "it 18100, train loss = 5.898197e+00\n",
            "it 18200, train loss = 5.898149e+00\n",
            "it 18300, train loss = 5.898841e+00\n",
            "it 18400, train loss = 5.898035e+00\n",
            "it 18500, train loss = 5.898025e+00\n",
            "it 18600, train loss = 5.897962e+00\n",
            "it 18700, train loss = 5.897852e+00\n",
            "it 18800, train loss = 5.897813e+00\n",
            "it 18900, train loss = 5.897820e+00\n",
            "it 19000, train loss = 5.897868e+00\n",
            "it 19100, train loss = 5.897696e+00\n",
            "it 19200, train loss = 5.897643e+00\n",
            "it 19300, train loss = 5.897820e+00\n",
            "it 19400, train loss = 5.897937e+00\n",
            "it 19500, train loss = 5.897846e+00\n",
            "it 19600, train loss = 5.900293e+00\n",
            "it 19700, train loss = 5.897657e+00\n",
            "it 19800, train loss = 5.897537e+00\n",
            "it 19900, train loss = 5.897422e+00\n",
            "it 20000, train loss = 5.897466e+00\n",
            "it 20100, train loss = 5.897459e+00\n",
            "it 20200, train loss = 5.898308e+00\n",
            "it 20300, train loss = 5.897409e+00\n",
            "it 20400, train loss = 5.897794e+00\n",
            "it 20500, train loss = 5.897188e+00\n",
            "it 20600, train loss = 5.897599e+00\n",
            "it 20700, train loss = 5.897503e+00\n",
            "it 20800, train loss = 5.897129e+00\n",
            "it 20900, train loss = 5.897101e+00\n",
            "it 21000, train loss = 5.897146e+00\n",
            "it 21100, train loss = 5.897081e+00\n",
            "it 21200, train loss = 5.897092e+00\n",
            "it 21300, train loss = 5.897547e+00\n",
            "it 21400, train loss = 5.897037e+00\n",
            "it 21500, train loss = 5.897065e+00\n",
            "it 21600, train loss = 5.897445e+00\n",
            "it 21700, train loss = 5.897282e+00\n",
            "it 21800, train loss = 5.897045e+00\n",
            "it 21900, train loss = 5.897483e+00\n",
            "it 22000, train loss = 5.896978e+00\n",
            "it 22100, train loss = 5.897121e+00\n",
            "it 22200, train loss = 5.896920e+00\n",
            "it 22300, train loss = 5.896900e+00\n",
            "it 22400, train loss = 5.896854e+00\n",
            "it 22500, train loss = 5.897303e+00\n",
            "it 22600, train loss = 5.896916e+00\n",
            "it 22700, train loss = 5.896970e+00\n",
            "it 22800, train loss = 5.898613e+00\n",
            "it 22900, train loss = 5.896811e+00\n",
            "it 23000, train loss = 5.897334e+00\n",
            "it 23100, train loss = 5.896825e+00\n",
            "it 23200, train loss = 5.896882e+00\n",
            "it 23300, train loss = 5.896752e+00\n",
            "it 23400, train loss = 5.896998e+00\n",
            "it 23500, train loss = 5.896829e+00\n",
            "it 23600, train loss = 5.896761e+00\n",
            "it 23700, train loss = 5.897513e+00\n",
            "it 23800, train loss = 5.896783e+00\n",
            "it 23900, train loss = 5.896700e+00\n",
            "it 24000, train loss = 5.897418e+00\n",
            "it 24100, train loss = 5.896737e+00\n",
            "it 24200, train loss = 5.897268e+00\n",
            "it 24300, train loss = 5.898520e+00\n",
            "it 24400, train loss = 5.895665e+00\n",
            "it 24500, train loss = 5.895678e+00\n",
            "it 24600, train loss = 5.896893e+00\n",
            "it 24700, train loss = 5.895594e+00\n",
            "it 24800, train loss = 5.895597e+00\n",
            "it 24900, train loss = 5.895781e+00\n",
            "it 25000, train loss = 5.896522e+00\n",
            "it 25100, train loss = 5.895568e+00\n",
            "it 25200, train loss = 5.895804e+00\n",
            "it 25300, train loss = 5.895697e+00\n",
            "it 25400, train loss = 5.895551e+00\n",
            "it 25500, train loss = 5.895537e+00\n",
            "it 25600, train loss = 5.897280e+00\n",
            "it 25700, train loss = 5.895625e+00\n",
            "it 25800, train loss = 5.895780e+00\n",
            "it 25900, train loss = 5.898708e+00\n",
            "it 26000, train loss = 5.895703e+00\n",
            "it 26100, train loss = 5.895443e+00\n",
            "it 26200, train loss = 5.895443e+00\n",
            "it 26300, train loss = 5.895521e+00\n",
            "it 26400, train loss = 5.895400e+00\n",
            "it 26500, train loss = 5.895555e+00\n",
            "it 26600, train loss = 5.895927e+00\n",
            "it 26700, train loss = 5.895523e+00\n",
            "it 26800, train loss = 5.895844e+00\n",
            "it 26900, train loss = 5.895360e+00\n",
            "it 27000, train loss = 5.895354e+00\n",
            "it 27100, train loss = 5.895689e+00\n",
            "it 27200, train loss = 5.895382e+00\n",
            "it 27300, train loss = 5.895542e+00\n",
            "it 27400, train loss = 5.895425e+00\n",
            "it 27500, train loss = 5.895331e+00\n",
            "it 27600, train loss = 5.895332e+00\n",
            "it 27700, train loss = 5.896854e+00\n",
            "it 27800, train loss = 5.895370e+00\n",
            "it 27900, train loss = 5.895892e+00\n",
            "it 28000, train loss = 5.895353e+00\n",
            "it 28100, train loss = 5.895355e+00\n",
            "it 28200, train loss = 5.895404e+00\n",
            "it 28300, train loss = 5.895319e+00\n",
            "it 28400, train loss = 5.895331e+00\n",
            "it 28500, train loss = 5.895310e+00\n",
            "it 28600, train loss = 5.895305e+00\n",
            "it 28700, train loss = 5.895292e+00\n",
            "it 28800, train loss = 5.895371e+00\n",
            "it 28900, train loss = 5.895296e+00\n",
            "it 29000, train loss = 5.895307e+00\n",
            "it 29100, train loss = 5.895695e+00\n",
            "it 29200, train loss = 5.895295e+00\n",
            "it 29300, train loss = 5.895319e+00\n",
            "it 29400, train loss = 5.895397e+00\n",
            "it 29500, train loss = 5.895333e+00\n",
            "it 29600, train loss = 5.895572e+00\n",
            "it 29700, train loss = 5.895286e+00\n",
            "it 29800, train loss = 5.895254e+00\n"
          ]
        }
      ],
      "source": [
        "@jit\n",
        "def log_forward_model(input, params):\n",
        "  X = input[:,:2] # primeras coordenadas, (x,y)\n",
        "  BN = input[:,2:] # proyecciones de difusión, 6\n",
        "  pred = ff_forwardpass_fiber(X, params) # output es de tamaño (N, 4)\n",
        "  dI = np.exp(pred[:,0]) # difusión intracelular isotrópica, qué tan homogénea se difunde el agua\n",
        "  df = np.exp(pred[:,1]) # difusión extracelular en dirección de la fibra, cuánto aporta la dirección de la fibra a la difusión\n",
        "  a = np.tanh(pred[:,2]) # ángulo en una esfera, también determina f2\n",
        "  b = np.tanh(pred[:,3]) # otro ángulo que determina f1, f2 y f3\n",
        "\n",
        "  # componentes de dirección de las fibras en 3D:\n",
        "  f1 = a*np.sqrt(1 - b**2 + 1e-6) # cómo cambia la orientación de la fibra en X\n",
        "  f2 = np.sqrt(1 - a**2 + 1e-6)*np.sqrt(1 - b**2 + 1e-6)\n",
        "  f3 = b\n",
        "\n",
        "  # simula la atenuación de la señal:\n",
        "  Dproj = BN[:,0]*(dI + df*f1**2) + BN[:,1]*(dI + df*f2**2) + BN[:,2]*(dI + df*f3**2) + \\\n",
        "         + df*(BN[:,3]*f1*f2 + BN[:,4]*f1*f3 + BN[:,5]*f2*f3)\n",
        "\n",
        "  return logM0 - Dproj # esto es señal con atenuación\n",
        "\n",
        "N_ff = 256\n",
        "key = random.PRNGKey(1234)\n",
        "Bf = random.normal(key, shape = (N_ff,2))*3 # was 3\n",
        "\n",
        "ff_forwardpass_fiber = lambda X, params: ff_forwardpass_B(X,params,B)\n",
        "\n",
        "\n",
        "@jit\n",
        "def loss(params, input, Y):\n",
        "  pred = vmap(log_forward_model, in_axes=(0,None))(input, params) # se aplica log_forward_model a cada input\n",
        "  MSE_data = np.average((pred[:,M0mask] - Y[:,M0mask])**2) # se comparan los valores dentro de la máscara de píxeles válidos\n",
        "  return  MSE_data\n",
        "# @jit\n",
        "# def joint_loss(params, input, Y):\n",
        "#   input_I, input_f = input\n",
        "#   logIf = log_forward_model(input_f, params)\n",
        "\n",
        "#   MSE_data = np.average((pred - Y[:,0])**2)\n",
        "#   return  MSE_data\n",
        "\n",
        "output /= output.max()\n",
        "\n",
        "layers = [2*N_ff, 256, 256,256, 4] # dimensiones de B\n",
        "\n",
        "params_fiber = init_params(layers, key) # parámetros iniciales para entrenar de 0\n",
        "\n",
        "\n",
        "\n",
        "opt_init_fiber, opt_update_fiber, get_params_fiber = optimizers.adam(5e-4)\n",
        "opt_state_fiber = opt_init(params_fiber)\n",
        "opt_state_fiber, train_loss, val_loss = train(loss,input_f, output_f, opt_state_fiber, key, nIter= 30000) # 40k"
      ]
    },
    {
      "cell_type": "markdown",
      "source": [
        "archivos generados:\n",
        "\n",
        "nombre = fiber2 es modelo con 5 capas\n",
        "\n",
        "\n",
        "nombre = fiber3 es modelo con 200k iteraciones\n",
        "\n",
        "\n",
        "nombre = fiber_lr_exp200 es modelo con lr 200k"
      ],
      "metadata": {
        "id": "KWrG1558jqPV"
      }
    },
    {
      "cell_type": "code",
      "source": [
        "import pickle\n",
        "save_path='/content/drive/MyDrive/joint_recon'\n",
        "\n",
        "params_fiber = get_params(opt_state_fiber)\n",
        "\n",
        "with open(f'{save_path}/params_{nombre_fib}{nombre}.pkl', 'wb') as f:\n",
        "    pickle.dump(params_fiber, f)\n",
        "\n",
        "with open(f'{save_path}/opt_state_{nombre_fib}{nombre}.pkl', 'wb') as f:\n",
        "    pickle.dump(opt_state_fiber, f)"
      ],
      "metadata": {
        "id": "6t-tVDVcYRTO"
      },
      "execution_count": null,
      "outputs": []
    },
    {
      "cell_type": "code",
      "source": [
        "with open(f'{save_path}/params_{nombre_fib}{nombre}.pkl', \"rb\") as f:\n",
        "    params_fiber = pickle.load(f)\n",
        "\n",
        "with open(f'{save_path}/opt_state_{nombre_fib}{nombre}.pkl', \"rb\") as f:\n",
        "    opt_state_fiber = pickle.load(f)"
      ],
      "metadata": {
        "id": "3CxSWse6ZY_O"
      },
      "execution_count": null,
      "outputs": []
    },
    {
      "cell_type": "code",
      "source": [
        "loss(params_fiber, input_f, output_f) #MSE"
      ],
      "metadata": {
        "id": "odRVmvRLcf3K"
      },
      "execution_count": null,
      "outputs": []
    },
    {
      "cell_type": "code",
      "execution_count": null,
      "metadata": {
        "id": "E98AxEjOC6z2"
      },
      "outputs": [],
      "source": [
        "pred = ff_forwardpass_fiber(Xall, params_fiber)\n",
        "\n",
        "dI = np.exp(pred[:,0])\n",
        "df = np.exp(pred[:,1])\n",
        "a = np.tanh(pred[:,2])\n",
        "b = np.tanh(pred[:,3])\n",
        "\n",
        "\n",
        "f1 = a*np.sqrt(1 - b**2 + 1e-6)\n",
        "f2 = np.sqrt(1 - a**2 + 1e-6)*np.sqrt(1 - b**2 + 1e-6)\n",
        "f3 = b\n",
        "\n",
        "plt.figure(figsize=(15,10))\n",
        "\n",
        "plt.subplot(2,2,1)\n",
        "plt.imshow(dI.reshape((Nx, Ny)), cmap='gray')\n",
        "\n",
        "plt.subplot(2,2,2)\n",
        "plt.imshow(df.reshape((Nx, Ny)), vmax = 2,cmap='gray')\n",
        "plt.colorbar()\n",
        "\n",
        "plt.subplot(2,2,3)\n",
        "plt.imshow(f1.reshape((Nx, Ny)), cmap='gray')\n",
        "\n",
        "# plt.subplot(2,2,4)\n",
        "# plt.imshow(f2.reshape((Nx, Ny)), cmap='gray')\n",
        "\n",
        "plt.subplot(2,2,4)\n",
        "plt.pcolor(X,Y,dI.reshape((Nx, Ny)), cmap='gray') # mapa de difusión dI\n",
        "plt.quiver(Xall[:,0], Xall[:,1], f1, f2, f3) # flechas con la dirección de cada fibra\n",
        "plt.axis('equal')"
      ]
    },
    {
      "cell_type": "code",
      "execution_count": null,
      "metadata": {
        "id": "dXb7D3LCC6z4"
      },
      "outputs": [],
      "source": [
        "plt.hist(df, np.arange(0,10)) # Valores de df cercanos a 0, es decir de poca difusión"
      ]
    },
    {
      "cell_type": "code",
      "execution_count": null,
      "metadata": {
        "id": "KQtMXBrPC6z2"
      },
      "outputs": [],
      "source": [
        "pred_I = vmap(ff_forwardpass, in_axes = (0, None))(input, params_probar) # error!!!!!!!!!!!!!!!!!!!!!!!!!!!!!!!!!!!!!!!!!!!!!!!!!!!!!!!!!!!!!!!!\n",
        "\n",
        "pred_I = pred_I[...,0] + 1j*pred_I[...,1]\n",
        "\n",
        "ui, vi, wi = dirs[selected_dirs].T # componentes de vectores de dirección de los gradientes de difusión.T\n",
        "b_matrix = 1500*np.c_[ui**2, vi**2, wi**2, 2*ui*vi, 2*ui*wi, 2*vi*wi] # b vale 1500 y se construye la matriz b con él\n",
        "b_inv = np.linalg.pinv(b_matrix) # pseudoinversa de b\n",
        "\n",
        "print(pred_I.shape)\n",
        "\n",
        "D_vec = vmap(lambda logM0, Is: b_inv @ (np.log(abs(Is)) - logM0), in_axes = (0, 0))(logM0, pred_I.T) # vector D\n",
        "\n",
        "D_mat = vmap(lambda D: np.array([[D[0], D[3], D[4]],\n",
        "                                 [D[3], D[1], D[5]],\n",
        "                                 [D[4], D[5], D[2]]]))(D_vec) # matriz D a partir de los valores de D\n",
        "\n",
        "n_eigvals, n_eigvecs = np.linalg.eigh(D_mat) # calculo de auto vectores y valores.\n"
      ]
    },
    {
      "cell_type": "code",
      "execution_count": null,
      "metadata": {
        "id": "N_7qTFx4C6z3"
      },
      "outputs": [],
      "source": [
        "I_pred = log_forward_model(input_f[0], params_fiber) # resultado del modelo predictivo\n",
        "\n",
        "plt.imshow(((I_pred - np.abs(pred_I[0]))**2).reshape((Nx, Ny)), cmap='gray') # (resultado - resultado de ff_forwardpass) ^ 2\n",
        "plt.colorbar()"
      ]
    },
    {
      "cell_type": "code",
      "execution_count": null,
      "metadata": {
        "id": "XVmy3SIrC6z3"
      },
      "outputs": [],
      "source": [
        "map = n_eigvals[:,0].reshape((Nx, Ny))\n",
        "plt.imshow(map, cmap='gray') # valor propio más bajo de cada voxel, de poca difusión\n",
        "# es decir, el voxel con menos difusión de todos"
      ]
    },
    {
      "cell_type": "code",
      "execution_count": null,
      "metadata": {
        "id": "f_pADAb0C6z3"
      },
      "outputs": [],
      "source": [
        "plt.pcolor(X,Y,n_eigvals[:,0].reshape((Nx,Ny)), cmap='gray')\n",
        "plt.quiver(Xall[:,0], Xall[:,1], n_eigvecs[:,0,0], n_eigvecs[:,0,1], n_eigvecs[:,0,2]) # se dibujan las direcciones del valor propio más bajo en cada voxel\n",
        "# eigvecs[:,0,0] es en x y así eigvecs[:,0,1] en y, Xall[:,0], Xall[:,1] son las coordenadas de cada voxel en 2D"
      ]
    },
    {
      "cell_type": "code",
      "source": [
        "ui, vi, wi = dirs[selected_dirs].T # componentes de vectores de dirección de los gradientes de difusión.T\n",
        "b_matrix = 1500*np.c_[ui**2, vi**2, wi**2, 2*ui*vi, 2*ui*wi, 2*vi*wi] # b vale 1500 y se construye la matriz b con él\n",
        "b_inv = np.linalg.pinv(b_matrix) # pseudoinversa de b\n",
        "\n",
        "# original = image[:,:,22,0,0].copy()\n",
        "# print(original.shape)\n",
        "# print(logM0.shape)\n",
        "\n",
        "input = []\n",
        "for i,dir_idx in enumerate(selected_dirs): # son 12 puntos en selected_dirs\n",
        "    input.append(slice[dir_idx])\n",
        "input = np.array(input)\n",
        "\n",
        "print(input.shape)\n",
        "signal = input.reshape(12, -1)\n",
        "print(signal.shape)\n",
        "\n",
        "original = image.reshape(-1, len(selected_dirs))\n",
        "\n",
        "D_vec = vmap(lambda logM0, Is: b_inv @ (np.log(abs(Is)) - logM0), in_axes = (0, 0))(logM0, signal.T) # vector D\n",
        "\n",
        "D_mat = vmap(lambda D: np.array([[D[0], D[3], D[4]],\n",
        "                                 [D[3], D[1], D[5]],\n",
        "                                 [D[4], D[5], D[2]]]))(D_vec) # matriz D a partir de los valores de D\n",
        "\n",
        "i_eigvals, i_eigvecs = np.linalg.eigh(D_mat) # calculo de auto vectores y valores."
      ],
      "metadata": {
        "id": "xRrTUGQHG6Hn"
      },
      "execution_count": null,
      "outputs": []
    },
    {
      "cell_type": "code",
      "source": [
        "plt.imshow(i_eigvals[:,0].reshape((Nx, Ny)), cmap='gray') # valor propio más bajo de cada voxel, de poca difusión\n",
        "# es decir, el voxel con menos difusión de todos"
      ],
      "metadata": {
        "id": "hdztxxxpzBiR"
      },
      "execution_count": null,
      "outputs": []
    },
    {
      "cell_type": "code",
      "source": [
        "plt.pcolor(X,Y,i_eigvals[:,0].reshape((Nx,Ny)), cmap='gray')\n",
        "plt.quiver(Xall[:,0], Xall[:,1], i_eigvecs[:,0,0], i_eigvecs[:,0,1], i_eigvecs[:,0,2]) # se dibujan las direcciones del valor propio más bajo en cada voxel\n",
        "# eigvecs[:,0,0] es en x y así eigvecs[:,0,1] en y, Xall[:,0], Xall[:,1] son las coordenadas de cada voxel en 2D"
      ],
      "metadata": {
        "id": "gRTY6wV7zR-g"
      },
      "execution_count": null,
      "outputs": []
    },
    {
      "cell_type": "code",
      "source": [
        "plt.imshow(((np.abs(I_pred) - np.abs(signal[0]))).reshape((Nx, Ny)), cmap='gray') # (resultado - resultado de ff_forwardpass) ^ 2\n",
        "plt.colorbar()"
      ],
      "metadata": {
        "id": "FqwIbxlH4ebM"
      },
      "execution_count": null,
      "outputs": []
    },
    {
      "cell_type": "code",
      "source": [
        "plt.imshow(((np.abs(pred_I[0]) - np.abs(signal[0]))).reshape((Nx, Ny)), cmap='gray') # (resultado - resultado de ff_forwardpass) ^ 2\n",
        "plt.colorbar()"
      ],
      "metadata": {
        "id": "IFeWtr0i_XjR"
      },
      "execution_count": null,
      "outputs": []
    },
    {
      "cell_type": "code",
      "source": [
        "# del histograma anterior, parece ser que 0.08 quizá sea un buen punto donde umbralizar para dejar pasar solo el miocardio\n",
        "# estas máscaras las usaremos más abajo, para segmentar el np.dot de las direcciones del modelo y las reales y ver qué tal dan\n",
        "\n",
        "import jax.numpy as jnp\n",
        "\n",
        "def umbralizacion(X, t):\n",
        "    Y = jnp.zeros_like(X)\n",
        "    mask = X < t\n",
        "    Y = Y.at[mask].set(255)\n",
        "    return Y\n",
        "\n",
        "# mascaras = []\n",
        "# for i, idx in enumerate(selected_dirs):\n",
        "#     plt.subplot(4, 3, i + 1)\n",
        "#     img = np.abs(np.array(image[:, :, 24, 4, idx]))\n",
        "#     Y = umbralizacion(img, 0.06)\n",
        "#     mascaras.append(Y)\n",
        "#     plt.imshow(Y, cmap='gray')\n",
        "# plt.tight_layout()\n",
        "# plt.show()\n",
        "\n",
        "import jax.numpy as jnp\n",
        "\n",
        "Y = umbralizacion(map, -0.0015)\n",
        "img_recortada = jnp.full_like(Y, 255)\n",
        "img_recortada = img_recortada.at[2:32, 10:60].set(Y[2:32, 10:60])\n",
        "\n",
        "plt.imshow(img_recortada, cmap='gray')\n",
        "plt.tight_layout()\n",
        "plt.show()\n",
        "\n"
      ],
      "metadata": {
        "id": "MHC_ohN3uAHA"
      },
      "execution_count": null,
      "outputs": []
    },
    {
      "cell_type": "code",
      "source": [
        "i_main_evecs = i_eigvecs[:, :, 1]\n",
        "n_main_evecs = n_eigvecs[:, :, 1]\n",
        "\n",
        "dot_prods = np.sum(i_main_evecs * n_main_evecs, axis=1)\n",
        "dot_map = np.arccos(np.clip(np.abs(dot_prods), 0, 1))\n",
        "\n",
        "# Si quieres verlo como imagen:\n",
        "dot_map_img = dot_map.reshape((Nx, Ny))  # Ajusta al tamaño espacial original\n",
        "\n",
        "plt.figure(figsize=(6,6))\n",
        "\n",
        "# Imagen base en escala de grises (e.g. eigenval principal)\n",
        "plt.imshow(i_eigvals[:,0].reshape((Nx, Ny)), cmap='gray')\n",
        "\n",
        "# Mapa de producto punto encima, con transparencia\n",
        "plt.imshow(dot_map_img, cmap='hot', vmin=0, vmax=1, alpha=0.4)  # alpha entre 0 y 1\n",
        "\n",
        "plt.title('Mapa de producto punto sobre imagen base')\n",
        "plt.colorbar(label='|dot(real, pred)|')\n",
        "plt.axis('off')\n",
        "plt.show()\n",
        "\n"
      ],
      "metadata": {
        "id": "s1VfXNGDlzZ6"
      },
      "execution_count": null,
      "outputs": []
    },
    {
      "cell_type": "code",
      "source": [
        "masked_img = dot_map_img * (img_recortada < 10)\n",
        "plt.imshow(masked_img, cmap='hot')  # alpha entre 0 y 1\n",
        "\n",
        "plt.colorbar(label='|dot(real, pred)|')\n",
        "plt.axis('off')\n",
        "plt.show()\n"
      ],
      "metadata": {
        "id": "1zvx4T8G7xac"
      },
      "execution_count": null,
      "outputs": []
    }
  ],
  "metadata": {
    "kernelspec": {
      "display_name": "Python 3",
      "name": "python3"
    },
    "language_info": {
      "codemirror_mode": {
        "name": "ipython",
        "version": 3
      },
      "file_extension": ".py",
      "mimetype": "text/x-python",
      "name": "python",
      "nbconvert_exporter": "python",
      "pygments_lexer": "ipython3",
      "version": "3.13.3"
    },
    "colab": {
      "provenance": [],
      "gpuType": "T4",
      "include_colab_link": true
    },
    "accelerator": "GPU"
  },
  "nbformat": 4,
  "nbformat_minor": 0
}